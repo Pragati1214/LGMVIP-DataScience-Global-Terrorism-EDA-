{
 "cells": [
  {
   "cell_type": "code",
   "execution_count": 1,
   "metadata": {},
   "outputs": [],
   "source": [
    "import pandas as pd"
   ]
  },
  {
   "cell_type": "code",
   "execution_count": 2,
   "metadata": {},
   "outputs": [],
   "source": [
    "import numpy as np\n",
    "import seaborn as sns\n",
    "%matplotlib inline\n",
    "from matplotlib import pyplot as plt\n",
    "from matplotlib import style\n",
    "\n",
    "from sklearn import linear_model\n",
    "from sklearn.linear_model import LogisticRegression\n",
    "from sklearn.ensemble import RandomForestClassifier\n",
    "from sklearn.linear_model import Perceptron\n",
    "from sklearn.linear_model import SGDClassifier\n",
    "from sklearn.tree import DecisionTreeClassifier\n",
    "from sklearn.neighbors import KNeighborsClassifierNB"
   ]
  },
  {
   "cell_type": "code",
   "execution_count": 3,
   "metadata": {},
   "outputs": [],
   "source": [
    "df = pd.read_excel(r\"C:\\Pragati\\Project\\globalterrorismdb_0718dist.xlsx\")"
   ]
  },
  {
   "cell_type": "code",
   "execution_count": 4,
   "metadata": {},
   "outputs": [
    {
     "data": {
      "text/html": [
       "<div>\n",
       "<style scoped>\n",
       "    .dataframe tbody tr th:only-of-type {\n",
       "        vertical-align: middle;\n",
       "    }\n",
       "\n",
       "    .dataframe tbody tr th {\n",
       "        vertical-align: top;\n",
       "    }\n",
       "\n",
       "    .dataframe thead th {\n",
       "        text-align: right;\n",
       "    }\n",
       "</style>\n",
       "<table border=\"1\" class=\"dataframe\">\n",
       "  <thead>\n",
       "    <tr style=\"text-align: right;\">\n",
       "      <th></th>\n",
       "      <th>eventid</th>\n",
       "      <th>iyear</th>\n",
       "      <th>imonth</th>\n",
       "      <th>iday</th>\n",
       "      <th>approxdate</th>\n",
       "      <th>extended</th>\n",
       "      <th>resolution</th>\n",
       "      <th>country</th>\n",
       "      <th>country_txt</th>\n",
       "      <th>region</th>\n",
       "      <th>...</th>\n",
       "      <th>Unnamed: 138</th>\n",
       "      <th>Unnamed: 139</th>\n",
       "      <th>Unnamed: 140</th>\n",
       "      <th>Unnamed: 141</th>\n",
       "      <th>Unnamed: 142</th>\n",
       "      <th>Unnamed: 143</th>\n",
       "      <th>Unnamed: 144</th>\n",
       "      <th>Unnamed: 145</th>\n",
       "      <th>Unnamed: 146</th>\n",
       "      <th>Unnamed: 147</th>\n",
       "    </tr>\n",
       "  </thead>\n",
       "  <tbody>\n",
       "    <tr>\n",
       "      <th>0</th>\n",
       "      <td>197000000001</td>\n",
       "      <td>1970</td>\n",
       "      <td>7</td>\n",
       "      <td>2</td>\n",
       "      <td>NaN</td>\n",
       "      <td>0</td>\n",
       "      <td>NaT</td>\n",
       "      <td>58</td>\n",
       "      <td>Dominican Republic</td>\n",
       "      <td>2</td>\n",
       "      <td>...</td>\n",
       "      <td>NaN</td>\n",
       "      <td>NaN</td>\n",
       "      <td>NaN</td>\n",
       "      <td>NaN</td>\n",
       "      <td>NaN</td>\n",
       "      <td>NaN</td>\n",
       "      <td>NaN</td>\n",
       "      <td>NaN</td>\n",
       "      <td>NaN</td>\n",
       "      <td>NaN</td>\n",
       "    </tr>\n",
       "    <tr>\n",
       "      <th>1</th>\n",
       "      <td>197000000002</td>\n",
       "      <td>1970</td>\n",
       "      <td>0</td>\n",
       "      <td>0</td>\n",
       "      <td>NaN</td>\n",
       "      <td>0</td>\n",
       "      <td>NaT</td>\n",
       "      <td>130</td>\n",
       "      <td>Mexico</td>\n",
       "      <td>1</td>\n",
       "      <td>...</td>\n",
       "      <td>NaN</td>\n",
       "      <td>NaN</td>\n",
       "      <td>Hindu, “Naxals Give Officials Tense Moments,” ...</td>\n",
       "      <td>NaN</td>\n",
       "      <td>NaN</td>\n",
       "      <td>ISVG</td>\n",
       "      <td>0.0</td>\n",
       "      <td>0.0</td>\n",
       "      <td>0.0</td>\n",
       "      <td>0.0</td>\n",
       "    </tr>\n",
       "    <tr>\n",
       "      <th>2</th>\n",
       "      <td>200910130011</td>\n",
       "      <td>2009</td>\n",
       "      <td>10</td>\n",
       "      <td>13</td>\n",
       "      <td>NaN</td>\n",
       "      <td>0</td>\n",
       "      <td>NaT</td>\n",
       "      <td>4</td>\n",
       "      <td>Afghanistan</td>\n",
       "      <td>6</td>\n",
       "      <td>...</td>\n",
       "      <td>NaN</td>\n",
       "      <td>NaN</td>\n",
       "      <td>NaN</td>\n",
       "      <td>NaN</td>\n",
       "      <td>NaN</td>\n",
       "      <td>NaN</td>\n",
       "      <td>NaN</td>\n",
       "      <td>NaN</td>\n",
       "      <td>NaN</td>\n",
       "      <td>NaN</td>\n",
       "    </tr>\n",
       "    <tr>\n",
       "      <th>3</th>\n",
       "      <td>200910130013</td>\n",
       "      <td>2009</td>\n",
       "      <td>10</td>\n",
       "      <td>13</td>\n",
       "      <td>NaN</td>\n",
       "      <td>0</td>\n",
       "      <td>NaT</td>\n",
       "      <td>92</td>\n",
       "      <td>India</td>\n",
       "      <td>6</td>\n",
       "      <td>...</td>\n",
       "      <td>NaN</td>\n",
       "      <td>NaN</td>\n",
       "      <td>NaN</td>\n",
       "      <td>NaN</td>\n",
       "      <td>NaN</td>\n",
       "      <td>NaN</td>\n",
       "      <td>NaN</td>\n",
       "      <td>NaN</td>\n",
       "      <td>NaN</td>\n",
       "      <td>NaN</td>\n",
       "    </tr>\n",
       "    <tr>\n",
       "      <th>4</th>\n",
       "      <td>200910130014</td>\n",
       "      <td>2009</td>\n",
       "      <td>10</td>\n",
       "      <td>13</td>\n",
       "      <td>NaN</td>\n",
       "      <td>0</td>\n",
       "      <td>NaT</td>\n",
       "      <td>92</td>\n",
       "      <td>India</td>\n",
       "      <td>6</td>\n",
       "      <td>...</td>\n",
       "      <td>NaN</td>\n",
       "      <td>NaN</td>\n",
       "      <td>NaN</td>\n",
       "      <td>NaN</td>\n",
       "      <td>NaN</td>\n",
       "      <td>NaN</td>\n",
       "      <td>NaN</td>\n",
       "      <td>NaN</td>\n",
       "      <td>NaN</td>\n",
       "      <td>NaN</td>\n",
       "    </tr>\n",
       "  </tbody>\n",
       "</table>\n",
       "<p>5 rows × 148 columns</p>\n",
       "</div>"
      ],
      "text/plain": [
       "        eventid  iyear  imonth  iday approxdate  extended resolution  country  \\\n",
       "0  197000000001   1970       7     2        NaN         0        NaT       58   \n",
       "1  197000000002   1970       0     0        NaN         0        NaT      130   \n",
       "2  200910130011   2009      10    13        NaN         0        NaT        4   \n",
       "3  200910130013   2009      10    13        NaN         0        NaT       92   \n",
       "4  200910130014   2009      10    13        NaN         0        NaT       92   \n",
       "\n",
       "          country_txt  region  ... Unnamed: 138 Unnamed: 139  \\\n",
       "0  Dominican Republic       2  ...          NaN          NaN   \n",
       "1              Mexico       1  ...          NaN          NaN   \n",
       "2         Afghanistan       6  ...          NaN          NaN   \n",
       "3               India       6  ...          NaN          NaN   \n",
       "4               India       6  ...          NaN          NaN   \n",
       "\n",
       "                                        Unnamed: 140  Unnamed: 141  \\\n",
       "0                                                NaN           NaN   \n",
       "1  Hindu, “Naxals Give Officials Tense Moments,” ...           NaN   \n",
       "2                                                NaN           NaN   \n",
       "3                                                NaN           NaN   \n",
       "4                                                NaN           NaN   \n",
       "\n",
       "   Unnamed: 142  Unnamed: 143  Unnamed: 144 Unnamed: 145 Unnamed: 146  \\\n",
       "0           NaN           NaN           NaN          NaN          NaN   \n",
       "1           NaN          ISVG           0.0          0.0          0.0   \n",
       "2           NaN           NaN           NaN          NaN          NaN   \n",
       "3           NaN           NaN           NaN          NaN          NaN   \n",
       "4           NaN           NaN           NaN          NaN          NaN   \n",
       "\n",
       "   Unnamed: 147  \n",
       "0           NaN  \n",
       "1           0.0  \n",
       "2           NaN  \n",
       "3           NaN  \n",
       "4           NaN  \n",
       "\n",
       "[5 rows x 148 columns]"
      ]
     },
     "execution_count": 4,
     "metadata": {},
     "output_type": "execute_result"
    }
   ],
   "source": [
    "df.head()"
   ]
  },
  {
   "cell_type": "code",
   "execution_count": 5,
   "metadata": {},
   "outputs": [
    {
     "data": {
      "text/html": [
       "<div>\n",
       "<style scoped>\n",
       "    .dataframe tbody tr th:only-of-type {\n",
       "        vertical-align: middle;\n",
       "    }\n",
       "\n",
       "    .dataframe tbody tr th {\n",
       "        vertical-align: top;\n",
       "    }\n",
       "\n",
       "    .dataframe thead th {\n",
       "        text-align: right;\n",
       "    }\n",
       "</style>\n",
       "<table border=\"1\" class=\"dataframe\">\n",
       "  <thead>\n",
       "    <tr style=\"text-align: right;\">\n",
       "      <th></th>\n",
       "      <th>eventid</th>\n",
       "      <th>iyear</th>\n",
       "      <th>imonth</th>\n",
       "      <th>iday</th>\n",
       "      <th>extended</th>\n",
       "      <th>country</th>\n",
       "      <th>region</th>\n",
       "      <th>latitude</th>\n",
       "      <th>longitude</th>\n",
       "      <th>specificity</th>\n",
       "      <th>...</th>\n",
       "      <th>Unnamed: 136</th>\n",
       "      <th>Unnamed: 137</th>\n",
       "      <th>Unnamed: 138</th>\n",
       "      <th>Unnamed: 139</th>\n",
       "      <th>Unnamed: 141</th>\n",
       "      <th>Unnamed: 142</th>\n",
       "      <th>Unnamed: 144</th>\n",
       "      <th>Unnamed: 145</th>\n",
       "      <th>Unnamed: 146</th>\n",
       "      <th>Unnamed: 147</th>\n",
       "    </tr>\n",
       "  </thead>\n",
       "  <tbody>\n",
       "    <tr>\n",
       "      <th>count</th>\n",
       "      <td>9.395100e+04</td>\n",
       "      <td>93951.000000</td>\n",
       "      <td>93951.000000</td>\n",
       "      <td>93951.000000</td>\n",
       "      <td>93951.000000</td>\n",
       "      <td>93951.000000</td>\n",
       "      <td>93951.000000</td>\n",
       "      <td>93904.000000</td>\n",
       "      <td>9.390400e+04</td>\n",
       "      <td>93951.000000</td>\n",
       "      <td>...</td>\n",
       "      <td>0.0</td>\n",
       "      <td>0.0</td>\n",
       "      <td>0.0</td>\n",
       "      <td>0.0</td>\n",
       "      <td>0.0</td>\n",
       "      <td>0.0</td>\n",
       "      <td>1.0</td>\n",
       "      <td>1.0</td>\n",
       "      <td>1.0</td>\n",
       "      <td>1.0</td>\n",
       "    </tr>\n",
       "    <tr>\n",
       "      <th>mean</th>\n",
       "      <td>2.013780e+11</td>\n",
       "      <td>2013.713202</td>\n",
       "      <td>6.542123</td>\n",
       "      <td>15.729167</td>\n",
       "      <td>0.061628</td>\n",
       "      <td>122.655767</td>\n",
       "      <td>8.098338</td>\n",
       "      <td>26.354141</td>\n",
       "      <td>2.139579e+06</td>\n",
       "      <td>1.482443</td>\n",
       "      <td>...</td>\n",
       "      <td>NaN</td>\n",
       "      <td>NaN</td>\n",
       "      <td>NaN</td>\n",
       "      <td>NaN</td>\n",
       "      <td>NaN</td>\n",
       "      <td>NaN</td>\n",
       "      <td>0.0</td>\n",
       "      <td>0.0</td>\n",
       "      <td>0.0</td>\n",
       "      <td>0.0</td>\n",
       "    </tr>\n",
       "    <tr>\n",
       "      <th>std</th>\n",
       "      <td>2.389164e+08</td>\n",
       "      <td>2.391855</td>\n",
       "      <td>3.396613</td>\n",
       "      <td>8.792769</td>\n",
       "      <td>0.240480</td>\n",
       "      <td>90.613116</td>\n",
       "      <td>2.331323</td>\n",
       "      <td>13.085351</td>\n",
       "      <td>6.556315e+08</td>\n",
       "      <td>6.611333</td>\n",
       "      <td>...</td>\n",
       "      <td>NaN</td>\n",
       "      <td>NaN</td>\n",
       "      <td>NaN</td>\n",
       "      <td>NaN</td>\n",
       "      <td>NaN</td>\n",
       "      <td>NaN</td>\n",
       "      <td>NaN</td>\n",
       "      <td>NaN</td>\n",
       "      <td>NaN</td>\n",
       "      <td>NaN</td>\n",
       "    </tr>\n",
       "    <tr>\n",
       "      <th>min</th>\n",
       "      <td>1.970000e+11</td>\n",
       "      <td>1970.000000</td>\n",
       "      <td>0.000000</td>\n",
       "      <td>0.000000</td>\n",
       "      <td>0.000000</td>\n",
       "      <td>4.000000</td>\n",
       "      <td>1.000000</td>\n",
       "      <td>-42.884049</td>\n",
       "      <td>-1.578190e+02</td>\n",
       "      <td>1.000000</td>\n",
       "      <td>...</td>\n",
       "      <td>NaN</td>\n",
       "      <td>NaN</td>\n",
       "      <td>NaN</td>\n",
       "      <td>NaN</td>\n",
       "      <td>NaN</td>\n",
       "      <td>NaN</td>\n",
       "      <td>0.0</td>\n",
       "      <td>0.0</td>\n",
       "      <td>0.0</td>\n",
       "      <td>0.0</td>\n",
       "    </tr>\n",
       "    <tr>\n",
       "      <th>25%</th>\n",
       "      <td>2.012093e+11</td>\n",
       "      <td>2012.000000</td>\n",
       "      <td>4.000000</td>\n",
       "      <td>8.000000</td>\n",
       "      <td>0.000000</td>\n",
       "      <td>92.000000</td>\n",
       "      <td>6.000000</td>\n",
       "      <td>15.715529</td>\n",
       "      <td>4.058603e+01</td>\n",
       "      <td>1.000000</td>\n",
       "      <td>...</td>\n",
       "      <td>NaN</td>\n",
       "      <td>NaN</td>\n",
       "      <td>NaN</td>\n",
       "      <td>NaN</td>\n",
       "      <td>NaN</td>\n",
       "      <td>NaN</td>\n",
       "      <td>0.0</td>\n",
       "      <td>0.0</td>\n",
       "      <td>0.0</td>\n",
       "      <td>0.0</td>\n",
       "    </tr>\n",
       "    <tr>\n",
       "      <th>50%</th>\n",
       "      <td>2.014071e+11</td>\n",
       "      <td>2014.000000</td>\n",
       "      <td>7.000000</td>\n",
       "      <td>16.000000</td>\n",
       "      <td>0.000000</td>\n",
       "      <td>95.000000</td>\n",
       "      <td>9.000000</td>\n",
       "      <td>32.374802</td>\n",
       "      <td>4.473357e+01</td>\n",
       "      <td>1.000000</td>\n",
       "      <td>...</td>\n",
       "      <td>NaN</td>\n",
       "      <td>NaN</td>\n",
       "      <td>NaN</td>\n",
       "      <td>NaN</td>\n",
       "      <td>NaN</td>\n",
       "      <td>NaN</td>\n",
       "      <td>0.0</td>\n",
       "      <td>0.0</td>\n",
       "      <td>0.0</td>\n",
       "      <td>0.0</td>\n",
       "    </tr>\n",
       "    <tr>\n",
       "      <th>75%</th>\n",
       "      <td>2.016013e+11</td>\n",
       "      <td>2016.000000</td>\n",
       "      <td>9.000000</td>\n",
       "      <td>23.000000</td>\n",
       "      <td>0.000000</td>\n",
       "      <td>160.000000</td>\n",
       "      <td>10.000000</td>\n",
       "      <td>34.199577</td>\n",
       "      <td>7.058193e+01</td>\n",
       "      <td>1.000000</td>\n",
       "      <td>...</td>\n",
       "      <td>NaN</td>\n",
       "      <td>NaN</td>\n",
       "      <td>NaN</td>\n",
       "      <td>NaN</td>\n",
       "      <td>NaN</td>\n",
       "      <td>NaN</td>\n",
       "      <td>0.0</td>\n",
       "      <td>0.0</td>\n",
       "      <td>0.0</td>\n",
       "      <td>0.0</td>\n",
       "    </tr>\n",
       "    <tr>\n",
       "      <th>max</th>\n",
       "      <td>2.017123e+11</td>\n",
       "      <td>2017.000000</td>\n",
       "      <td>12.000000</td>\n",
       "      <td>31.000000</td>\n",
       "      <td>1.000000</td>\n",
       "      <td>1004.000000</td>\n",
       "      <td>12.000000</td>\n",
       "      <td>65.825119</td>\n",
       "      <td>2.009101e+11</td>\n",
       "      <td>2009.000000</td>\n",
       "      <td>...</td>\n",
       "      <td>NaN</td>\n",
       "      <td>NaN</td>\n",
       "      <td>NaN</td>\n",
       "      <td>NaN</td>\n",
       "      <td>NaN</td>\n",
       "      <td>NaN</td>\n",
       "      <td>0.0</td>\n",
       "      <td>0.0</td>\n",
       "      <td>0.0</td>\n",
       "      <td>0.0</td>\n",
       "    </tr>\n",
       "  </tbody>\n",
       "</table>\n",
       "<p>8 rows × 79 columns</p>\n",
       "</div>"
      ],
      "text/plain": [
       "            eventid         iyear        imonth          iday      extended  \\\n",
       "count  9.395100e+04  93951.000000  93951.000000  93951.000000  93951.000000   \n",
       "mean   2.013780e+11   2013.713202      6.542123     15.729167      0.061628   \n",
       "std    2.389164e+08      2.391855      3.396613      8.792769      0.240480   \n",
       "min    1.970000e+11   1970.000000      0.000000      0.000000      0.000000   \n",
       "25%    2.012093e+11   2012.000000      4.000000      8.000000      0.000000   \n",
       "50%    2.014071e+11   2014.000000      7.000000     16.000000      0.000000   \n",
       "75%    2.016013e+11   2016.000000      9.000000     23.000000      0.000000   \n",
       "max    2.017123e+11   2017.000000     12.000000     31.000000      1.000000   \n",
       "\n",
       "            country        region      latitude     longitude   specificity  \\\n",
       "count  93951.000000  93951.000000  93904.000000  9.390400e+04  93951.000000   \n",
       "mean     122.655767      8.098338     26.354141  2.139579e+06      1.482443   \n",
       "std       90.613116      2.331323     13.085351  6.556315e+08      6.611333   \n",
       "min        4.000000      1.000000    -42.884049 -1.578190e+02      1.000000   \n",
       "25%       92.000000      6.000000     15.715529  4.058603e+01      1.000000   \n",
       "50%       95.000000      9.000000     32.374802  4.473357e+01      1.000000   \n",
       "75%      160.000000     10.000000     34.199577  7.058193e+01      1.000000   \n",
       "max     1004.000000     12.000000     65.825119  2.009101e+11   2009.000000   \n",
       "\n",
       "       ...  Unnamed: 136  Unnamed: 137  Unnamed: 138  Unnamed: 139  \\\n",
       "count  ...           0.0           0.0           0.0           0.0   \n",
       "mean   ...           NaN           NaN           NaN           NaN   \n",
       "std    ...           NaN           NaN           NaN           NaN   \n",
       "min    ...           NaN           NaN           NaN           NaN   \n",
       "25%    ...           NaN           NaN           NaN           NaN   \n",
       "50%    ...           NaN           NaN           NaN           NaN   \n",
       "75%    ...           NaN           NaN           NaN           NaN   \n",
       "max    ...           NaN           NaN           NaN           NaN   \n",
       "\n",
       "       Unnamed: 141  Unnamed: 142  Unnamed: 144  Unnamed: 145  Unnamed: 146  \\\n",
       "count           0.0           0.0           1.0           1.0           1.0   \n",
       "mean            NaN           NaN           0.0           0.0           0.0   \n",
       "std             NaN           NaN           NaN           NaN           NaN   \n",
       "min             NaN           NaN           0.0           0.0           0.0   \n",
       "25%             NaN           NaN           0.0           0.0           0.0   \n",
       "50%             NaN           NaN           0.0           0.0           0.0   \n",
       "75%             NaN           NaN           0.0           0.0           0.0   \n",
       "max             NaN           NaN           0.0           0.0           0.0   \n",
       "\n",
       "       Unnamed: 147  \n",
       "count           1.0  \n",
       "mean            0.0  \n",
       "std             NaN  \n",
       "min             0.0  \n",
       "25%             0.0  \n",
       "50%             0.0  \n",
       "75%             0.0  \n",
       "max             0.0  \n",
       "\n",
       "[8 rows x 79 columns]"
      ]
     },
     "execution_count": 5,
     "metadata": {},
     "output_type": "execute_result"
    }
   ],
   "source": [
    "df.describe()"
   ]
  },
  {
   "cell_type": "code",
   "execution_count": 6,
   "metadata": {},
   "outputs": [
    {
     "name": "stdout",
     "output_type": "stream",
     "text": [
      "<class 'pandas.core.frame.DataFrame'>\n",
      "RangeIndex: 93951 entries, 0 to 93950\n",
      "Columns: 148 entries, eventid to Unnamed: 147\n",
      "dtypes: datetime64[ns](1), float64(58), int64(21), object(68)\n",
      "memory usage: 106.1+ MB\n"
     ]
    }
   ],
   "source": [
    "df.info()"
   ]
  },
  {
   "cell_type": "markdown",
   "metadata": {},
   "source": [
    "# Data Cleaning"
   ]
  },
  {
   "cell_type": "code",
   "execution_count": 7,
   "metadata": {},
   "outputs": [
    {
     "data": {
      "text/html": [
       "<div>\n",
       "<style scoped>\n",
       "    .dataframe tbody tr th:only-of-type {\n",
       "        vertical-align: middle;\n",
       "    }\n",
       "\n",
       "    .dataframe tbody tr th {\n",
       "        vertical-align: top;\n",
       "    }\n",
       "\n",
       "    .dataframe thead th {\n",
       "        text-align: right;\n",
       "    }\n",
       "</style>\n",
       "<table border=\"1\" class=\"dataframe\">\n",
       "  <thead>\n",
       "    <tr style=\"text-align: right;\">\n",
       "      <th></th>\n",
       "      <th>eventid</th>\n",
       "      <th>iyear</th>\n",
       "      <th>imonth</th>\n",
       "      <th>iday</th>\n",
       "      <th>approxdate</th>\n",
       "      <th>extended</th>\n",
       "      <th>resolution</th>\n",
       "      <th>country</th>\n",
       "      <th>country_txt</th>\n",
       "      <th>region</th>\n",
       "      <th>...</th>\n",
       "      <th>Unnamed: 138</th>\n",
       "      <th>Unnamed: 139</th>\n",
       "      <th>Unnamed: 140</th>\n",
       "      <th>Unnamed: 141</th>\n",
       "      <th>Unnamed: 142</th>\n",
       "      <th>Unnamed: 143</th>\n",
       "      <th>Unnamed: 144</th>\n",
       "      <th>Unnamed: 145</th>\n",
       "      <th>Unnamed: 146</th>\n",
       "      <th>Unnamed: 147</th>\n",
       "    </tr>\n",
       "  </thead>\n",
       "  <tbody>\n",
       "    <tr>\n",
       "      <th>0</th>\n",
       "      <td>False</td>\n",
       "      <td>False</td>\n",
       "      <td>False</td>\n",
       "      <td>False</td>\n",
       "      <td>True</td>\n",
       "      <td>False</td>\n",
       "      <td>True</td>\n",
       "      <td>False</td>\n",
       "      <td>False</td>\n",
       "      <td>False</td>\n",
       "      <td>...</td>\n",
       "      <td>True</td>\n",
       "      <td>True</td>\n",
       "      <td>True</td>\n",
       "      <td>True</td>\n",
       "      <td>True</td>\n",
       "      <td>True</td>\n",
       "      <td>True</td>\n",
       "      <td>True</td>\n",
       "      <td>True</td>\n",
       "      <td>True</td>\n",
       "    </tr>\n",
       "    <tr>\n",
       "      <th>1</th>\n",
       "      <td>False</td>\n",
       "      <td>False</td>\n",
       "      <td>False</td>\n",
       "      <td>False</td>\n",
       "      <td>True</td>\n",
       "      <td>False</td>\n",
       "      <td>True</td>\n",
       "      <td>False</td>\n",
       "      <td>False</td>\n",
       "      <td>False</td>\n",
       "      <td>...</td>\n",
       "      <td>True</td>\n",
       "      <td>True</td>\n",
       "      <td>False</td>\n",
       "      <td>True</td>\n",
       "      <td>True</td>\n",
       "      <td>False</td>\n",
       "      <td>False</td>\n",
       "      <td>False</td>\n",
       "      <td>False</td>\n",
       "      <td>False</td>\n",
       "    </tr>\n",
       "    <tr>\n",
       "      <th>2</th>\n",
       "      <td>False</td>\n",
       "      <td>False</td>\n",
       "      <td>False</td>\n",
       "      <td>False</td>\n",
       "      <td>True</td>\n",
       "      <td>False</td>\n",
       "      <td>True</td>\n",
       "      <td>False</td>\n",
       "      <td>False</td>\n",
       "      <td>False</td>\n",
       "      <td>...</td>\n",
       "      <td>True</td>\n",
       "      <td>True</td>\n",
       "      <td>True</td>\n",
       "      <td>True</td>\n",
       "      <td>True</td>\n",
       "      <td>True</td>\n",
       "      <td>True</td>\n",
       "      <td>True</td>\n",
       "      <td>True</td>\n",
       "      <td>True</td>\n",
       "    </tr>\n",
       "    <tr>\n",
       "      <th>3</th>\n",
       "      <td>False</td>\n",
       "      <td>False</td>\n",
       "      <td>False</td>\n",
       "      <td>False</td>\n",
       "      <td>True</td>\n",
       "      <td>False</td>\n",
       "      <td>True</td>\n",
       "      <td>False</td>\n",
       "      <td>False</td>\n",
       "      <td>False</td>\n",
       "      <td>...</td>\n",
       "      <td>True</td>\n",
       "      <td>True</td>\n",
       "      <td>True</td>\n",
       "      <td>True</td>\n",
       "      <td>True</td>\n",
       "      <td>True</td>\n",
       "      <td>True</td>\n",
       "      <td>True</td>\n",
       "      <td>True</td>\n",
       "      <td>True</td>\n",
       "    </tr>\n",
       "    <tr>\n",
       "      <th>4</th>\n",
       "      <td>False</td>\n",
       "      <td>False</td>\n",
       "      <td>False</td>\n",
       "      <td>False</td>\n",
       "      <td>True</td>\n",
       "      <td>False</td>\n",
       "      <td>True</td>\n",
       "      <td>False</td>\n",
       "      <td>False</td>\n",
       "      <td>False</td>\n",
       "      <td>...</td>\n",
       "      <td>True</td>\n",
       "      <td>True</td>\n",
       "      <td>True</td>\n",
       "      <td>True</td>\n",
       "      <td>True</td>\n",
       "      <td>True</td>\n",
       "      <td>True</td>\n",
       "      <td>True</td>\n",
       "      <td>True</td>\n",
       "      <td>True</td>\n",
       "    </tr>\n",
       "    <tr>\n",
       "      <th>...</th>\n",
       "      <td>...</td>\n",
       "      <td>...</td>\n",
       "      <td>...</td>\n",
       "      <td>...</td>\n",
       "      <td>...</td>\n",
       "      <td>...</td>\n",
       "      <td>...</td>\n",
       "      <td>...</td>\n",
       "      <td>...</td>\n",
       "      <td>...</td>\n",
       "      <td>...</td>\n",
       "      <td>...</td>\n",
       "      <td>...</td>\n",
       "      <td>...</td>\n",
       "      <td>...</td>\n",
       "      <td>...</td>\n",
       "      <td>...</td>\n",
       "      <td>...</td>\n",
       "      <td>...</td>\n",
       "      <td>...</td>\n",
       "      <td>...</td>\n",
       "    </tr>\n",
       "    <tr>\n",
       "      <th>93946</th>\n",
       "      <td>False</td>\n",
       "      <td>False</td>\n",
       "      <td>False</td>\n",
       "      <td>False</td>\n",
       "      <td>True</td>\n",
       "      <td>False</td>\n",
       "      <td>True</td>\n",
       "      <td>False</td>\n",
       "      <td>False</td>\n",
       "      <td>False</td>\n",
       "      <td>...</td>\n",
       "      <td>True</td>\n",
       "      <td>True</td>\n",
       "      <td>True</td>\n",
       "      <td>True</td>\n",
       "      <td>True</td>\n",
       "      <td>True</td>\n",
       "      <td>True</td>\n",
       "      <td>True</td>\n",
       "      <td>True</td>\n",
       "      <td>True</td>\n",
       "    </tr>\n",
       "    <tr>\n",
       "      <th>93947</th>\n",
       "      <td>False</td>\n",
       "      <td>False</td>\n",
       "      <td>False</td>\n",
       "      <td>False</td>\n",
       "      <td>True</td>\n",
       "      <td>False</td>\n",
       "      <td>True</td>\n",
       "      <td>False</td>\n",
       "      <td>False</td>\n",
       "      <td>False</td>\n",
       "      <td>...</td>\n",
       "      <td>True</td>\n",
       "      <td>True</td>\n",
       "      <td>True</td>\n",
       "      <td>True</td>\n",
       "      <td>True</td>\n",
       "      <td>True</td>\n",
       "      <td>True</td>\n",
       "      <td>True</td>\n",
       "      <td>True</td>\n",
       "      <td>True</td>\n",
       "    </tr>\n",
       "    <tr>\n",
       "      <th>93948</th>\n",
       "      <td>False</td>\n",
       "      <td>False</td>\n",
       "      <td>False</td>\n",
       "      <td>False</td>\n",
       "      <td>True</td>\n",
       "      <td>False</td>\n",
       "      <td>True</td>\n",
       "      <td>False</td>\n",
       "      <td>False</td>\n",
       "      <td>False</td>\n",
       "      <td>...</td>\n",
       "      <td>True</td>\n",
       "      <td>True</td>\n",
       "      <td>True</td>\n",
       "      <td>True</td>\n",
       "      <td>True</td>\n",
       "      <td>True</td>\n",
       "      <td>True</td>\n",
       "      <td>True</td>\n",
       "      <td>True</td>\n",
       "      <td>True</td>\n",
       "    </tr>\n",
       "    <tr>\n",
       "      <th>93949</th>\n",
       "      <td>False</td>\n",
       "      <td>False</td>\n",
       "      <td>False</td>\n",
       "      <td>False</td>\n",
       "      <td>True</td>\n",
       "      <td>False</td>\n",
       "      <td>True</td>\n",
       "      <td>False</td>\n",
       "      <td>False</td>\n",
       "      <td>False</td>\n",
       "      <td>...</td>\n",
       "      <td>True</td>\n",
       "      <td>True</td>\n",
       "      <td>True</td>\n",
       "      <td>True</td>\n",
       "      <td>True</td>\n",
       "      <td>True</td>\n",
       "      <td>True</td>\n",
       "      <td>True</td>\n",
       "      <td>True</td>\n",
       "      <td>True</td>\n",
       "    </tr>\n",
       "    <tr>\n",
       "      <th>93950</th>\n",
       "      <td>False</td>\n",
       "      <td>False</td>\n",
       "      <td>False</td>\n",
       "      <td>False</td>\n",
       "      <td>True</td>\n",
       "      <td>False</td>\n",
       "      <td>True</td>\n",
       "      <td>False</td>\n",
       "      <td>False</td>\n",
       "      <td>False</td>\n",
       "      <td>...</td>\n",
       "      <td>True</td>\n",
       "      <td>True</td>\n",
       "      <td>True</td>\n",
       "      <td>True</td>\n",
       "      <td>True</td>\n",
       "      <td>True</td>\n",
       "      <td>True</td>\n",
       "      <td>True</td>\n",
       "      <td>True</td>\n",
       "      <td>True</td>\n",
       "    </tr>\n",
       "  </tbody>\n",
       "</table>\n",
       "<p>93951 rows × 148 columns</p>\n",
       "</div>"
      ],
      "text/plain": [
       "       eventid  iyear  imonth   iday  approxdate  extended  resolution  \\\n",
       "0        False  False   False  False        True     False        True   \n",
       "1        False  False   False  False        True     False        True   \n",
       "2        False  False   False  False        True     False        True   \n",
       "3        False  False   False  False        True     False        True   \n",
       "4        False  False   False  False        True     False        True   \n",
       "...        ...    ...     ...    ...         ...       ...         ...   \n",
       "93946    False  False   False  False        True     False        True   \n",
       "93947    False  False   False  False        True     False        True   \n",
       "93948    False  False   False  False        True     False        True   \n",
       "93949    False  False   False  False        True     False        True   \n",
       "93950    False  False   False  False        True     False        True   \n",
       "\n",
       "       country  country_txt  region  ...  Unnamed: 138  Unnamed: 139  \\\n",
       "0        False        False   False  ...          True          True   \n",
       "1        False        False   False  ...          True          True   \n",
       "2        False        False   False  ...          True          True   \n",
       "3        False        False   False  ...          True          True   \n",
       "4        False        False   False  ...          True          True   \n",
       "...        ...          ...     ...  ...           ...           ...   \n",
       "93946    False        False   False  ...          True          True   \n",
       "93947    False        False   False  ...          True          True   \n",
       "93948    False        False   False  ...          True          True   \n",
       "93949    False        False   False  ...          True          True   \n",
       "93950    False        False   False  ...          True          True   \n",
       "\n",
       "       Unnamed: 140  Unnamed: 141  Unnamed: 142  Unnamed: 143  Unnamed: 144  \\\n",
       "0              True          True          True          True          True   \n",
       "1             False          True          True         False         False   \n",
       "2              True          True          True          True          True   \n",
       "3              True          True          True          True          True   \n",
       "4              True          True          True          True          True   \n",
       "...             ...           ...           ...           ...           ...   \n",
       "93946          True          True          True          True          True   \n",
       "93947          True          True          True          True          True   \n",
       "93948          True          True          True          True          True   \n",
       "93949          True          True          True          True          True   \n",
       "93950          True          True          True          True          True   \n",
       "\n",
       "       Unnamed: 145  Unnamed: 146  Unnamed: 147  \n",
       "0              True          True          True  \n",
       "1             False         False         False  \n",
       "2              True          True          True  \n",
       "3              True          True          True  \n",
       "4              True          True          True  \n",
       "...             ...           ...           ...  \n",
       "93946          True          True          True  \n",
       "93947          True          True          True  \n",
       "93948          True          True          True  \n",
       "93949          True          True          True  \n",
       "93950          True          True          True  \n",
       "\n",
       "[93951 rows x 148 columns]"
      ]
     },
     "execution_count": 7,
     "metadata": {},
     "output_type": "execute_result"
    }
   ],
   "source": [
    "df.isnull()"
   ]
  },
  {
   "cell_type": "code",
   "execution_count": 8,
   "metadata": {},
   "outputs": [
    {
     "data": {
      "text/plain": [
       "eventid             0\n",
       "iyear               0\n",
       "imonth              0\n",
       "iday                0\n",
       "approxdate      84772\n",
       "                ...  \n",
       "Unnamed: 143    93950\n",
       "Unnamed: 144    93950\n",
       "Unnamed: 145    93950\n",
       "Unnamed: 146    93950\n",
       "Unnamed: 147    93950\n",
       "Length: 148, dtype: int64"
      ]
     },
     "execution_count": 8,
     "metadata": {},
     "output_type": "execute_result"
    }
   ],
   "source": [
    "df.isnull().sum()"
   ]
  },
  {
   "cell_type": "code",
   "execution_count": 9,
   "metadata": {},
   "outputs": [
    {
     "data": {
      "text/plain": [
       "Index(['eventid', 'iyear', 'imonth', 'iday', 'approxdate', 'extended',\n",
       "       'resolution', 'country', 'country_txt', 'region',\n",
       "       ...\n",
       "       'Unnamed: 138', 'Unnamed: 139', 'Unnamed: 140', 'Unnamed: 141',\n",
       "       'Unnamed: 142', 'Unnamed: 143', 'Unnamed: 144', 'Unnamed: 145',\n",
       "       'Unnamed: 146', 'Unnamed: 147'],\n",
       "      dtype='object', length=148)"
      ]
     },
     "execution_count": 9,
     "metadata": {},
     "output_type": "execute_result"
    }
   ],
   "source": [
    "df.keys()"
   ]
  },
  {
   "cell_type": "code",
   "execution_count": 10,
   "metadata": {},
   "outputs": [
    {
     "data": {
      "text/plain": [
       "(93951, 148)"
      ]
     },
     "execution_count": 10,
     "metadata": {},
     "output_type": "execute_result"
    }
   ],
   "source": [
    "df.shape"
   ]
  },
  {
   "cell_type": "code",
   "execution_count": 11,
   "metadata": {
    "scrolled": true
   },
   "outputs": [
    {
     "data": {
      "text/plain": [
       "eventid       93951\n",
       "iyear         93951\n",
       "imonth        93951\n",
       "iday          93951\n",
       "approxdate     9179\n",
       "dtype: int64"
      ]
     },
     "execution_count": 11,
     "metadata": {},
     "output_type": "execute_result"
    }
   ],
   "source": [
    "count_non_miss = df.count().head()\n",
    "count_non_miss"
   ]
  },
  {
   "cell_type": "code",
   "execution_count": 12,
   "metadata": {},
   "outputs": [
    {
     "data": {
      "text/html": [
       "<div>\n",
       "<style scoped>\n",
       "    .dataframe tbody tr th:only-of-type {\n",
       "        vertical-align: middle;\n",
       "    }\n",
       "\n",
       "    .dataframe tbody tr th {\n",
       "        vertical-align: top;\n",
       "    }\n",
       "\n",
       "    .dataframe thead th {\n",
       "        text-align: right;\n",
       "    }\n",
       "</style>\n",
       "<table border=\"1\" class=\"dataframe\">\n",
       "  <thead>\n",
       "    <tr style=\"text-align: right;\">\n",
       "      <th></th>\n",
       "      <th>Total</th>\n",
       "      <th>%</th>\n",
       "    </tr>\n",
       "  </thead>\n",
       "  <tbody>\n",
       "    <tr>\n",
       "      <th>Unnamed: 139</th>\n",
       "      <td>93951</td>\n",
       "      <td>100.0</td>\n",
       "    </tr>\n",
       "    <tr>\n",
       "      <th>Unnamed: 135</th>\n",
       "      <td>93951</td>\n",
       "      <td>100.0</td>\n",
       "    </tr>\n",
       "    <tr>\n",
       "      <th>Unnamed: 136</th>\n",
       "      <td>93951</td>\n",
       "      <td>100.0</td>\n",
       "    </tr>\n",
       "    <tr>\n",
       "      <th>Unnamed: 137</th>\n",
       "      <td>93951</td>\n",
       "      <td>100.0</td>\n",
       "    </tr>\n",
       "    <tr>\n",
       "      <th>Unnamed: 142</th>\n",
       "      <td>93951</td>\n",
       "      <td>100.0</td>\n",
       "    </tr>\n",
       "    <tr>\n",
       "      <th>...</th>\n",
       "      <td>...</td>\n",
       "      <td>...</td>\n",
       "    </tr>\n",
       "    <tr>\n",
       "      <th>suicide</th>\n",
       "      <td>0</td>\n",
       "      <td>0.0</td>\n",
       "    </tr>\n",
       "    <tr>\n",
       "      <th>success</th>\n",
       "      <td>0</td>\n",
       "      <td>0.0</td>\n",
       "    </tr>\n",
       "    <tr>\n",
       "      <th>multiple</th>\n",
       "      <td>0</td>\n",
       "      <td>0.0</td>\n",
       "    </tr>\n",
       "    <tr>\n",
       "      <th>doubtterr</th>\n",
       "      <td>0</td>\n",
       "      <td>0.0</td>\n",
       "    </tr>\n",
       "    <tr>\n",
       "      <th>eventid</th>\n",
       "      <td>0</td>\n",
       "      <td>0.0</td>\n",
       "    </tr>\n",
       "  </tbody>\n",
       "</table>\n",
       "<p>148 rows × 2 columns</p>\n",
       "</div>"
      ],
      "text/plain": [
       "              Total      %\n",
       "Unnamed: 139  93951  100.0\n",
       "Unnamed: 135  93951  100.0\n",
       "Unnamed: 136  93951  100.0\n",
       "Unnamed: 137  93951  100.0\n",
       "Unnamed: 142  93951  100.0\n",
       "...             ...    ...\n",
       "suicide           0    0.0\n",
       "success           0    0.0\n",
       "multiple          0    0.0\n",
       "doubtterr         0    0.0\n",
       "eventid           0    0.0\n",
       "\n",
       "[148 rows x 2 columns]"
      ]
     },
     "execution_count": 12,
     "metadata": {},
     "output_type": "execute_result"
    }
   ],
   "source": [
    "mean_missing_percent=df.isnull().mean()*100\n",
    "total_missing= df.isnull().sum().sort_values(ascending=False)\n",
    "\n",
    "missing_data = pd.concat([total_missing,mean_missing_percent],axis=1,keys=['Total','%'])\n",
    "missing_data"
   ]
  },
  {
   "cell_type": "code",
   "execution_count": 13,
   "metadata": {},
   "outputs": [
    {
     "data": {
      "text/plain": [
       "<AxesSubplot:>"
      ]
     },
     "execution_count": 13,
     "metadata": {},
     "output_type": "execute_result"
    },
    {
     "data": {
      "image/png": "[encoded data removed]",
      "text/plain": [
       "<Figure size 720x2160 with 1 Axes>"
      ]
     },
     "metadata": {
      "needs_background": "light"
     },
     "output_type": "display_data"
    }
   ],
   "source": [
    "missing_data.plot(kind=\"barh\",figsize=(10,30))"
   ]
  },
  {
   "cell_type": "code",
   "execution_count": 14,
   "metadata": {},
   "outputs": [
    {
     "data": {
      "text/plain": [
       "<AxesSubplot:>"
      ]
     },
     "execution_count": 14,
     "metadata": {},
     "output_type": "execute_result"
    },
    {
     "data": {
      "image/png": "[encoded data removed]",
      "text/plain": [
       "<Figure size 1440x720 with 1 Axes>"
      ]
     },
     "metadata": {
      "needs_background": "light"
     },
     "output_type": "display_data"
    }
   ],
   "source": [
    "missing_data.plot(figsize=(20,10))"
   ]
  },
  {
   "cell_type": "markdown",
   "metadata": {},
   "source": [
    "## Extracting Columns"
   ]
  },
  {
   "cell_type": "code",
   "execution_count": 15,
   "metadata": {},
   "outputs": [
    {
     "data": {
      "text/html": [
       "<div>\n",
       "<style scoped>\n",
       "    .dataframe tbody tr th:only-of-type {\n",
       "        vertical-align: middle;\n",
       "    }\n",
       "\n",
       "    .dataframe tbody tr th {\n",
       "        vertical-align: top;\n",
       "    }\n",
       "\n",
       "    .dataframe thead th {\n",
       "        text-align: right;\n",
       "    }\n",
       "</style>\n",
       "<table border=\"1\" class=\"dataframe\">\n",
       "  <thead>\n",
       "    <tr style=\"text-align: right;\">\n",
       "      <th></th>\n",
       "      <th>eventid</th>\n",
       "      <th>iyear</th>\n",
       "      <th>imonth</th>\n",
       "      <th>iday</th>\n",
       "      <th>country</th>\n",
       "      <th>country_txt</th>\n",
       "      <th>region</th>\n",
       "      <th>region_txt</th>\n",
       "      <th>provstate</th>\n",
       "      <th>city</th>\n",
       "      <th>location</th>\n",
       "      <th>success</th>\n",
       "      <th>attacktype1_txt</th>\n",
       "      <th>targtype1_txt</th>\n",
       "      <th>targsubtype1_txt</th>\n",
       "    </tr>\n",
       "  </thead>\n",
       "  <tbody>\n",
       "    <tr>\n",
       "      <th>0</th>\n",
       "      <td>197000000001</td>\n",
       "      <td>1970</td>\n",
       "      <td>7</td>\n",
       "      <td>2</td>\n",
       "      <td>58</td>\n",
       "      <td>Dominican Republic</td>\n",
       "      <td>2</td>\n",
       "      <td>Central America &amp; Caribbean</td>\n",
       "      <td>NaN</td>\n",
       "      <td>Santo Domingo</td>\n",
       "      <td>NaN</td>\n",
       "      <td>1</td>\n",
       "      <td>Assassination</td>\n",
       "      <td>Private Citizens &amp; Property</td>\n",
       "      <td>Named Civilian</td>\n",
       "    </tr>\n",
       "    <tr>\n",
       "      <th>1</th>\n",
       "      <td>197000000002</td>\n",
       "      <td>1970</td>\n",
       "      <td>0</td>\n",
       "      <td>0</td>\n",
       "      <td>130</td>\n",
       "      <td>Mexico</td>\n",
       "      <td>1</td>\n",
       "      <td>North America</td>\n",
       "      <td>Federal</td>\n",
       "      <td>Mexico city</td>\n",
       "      <td>13</td>\n",
       "      <td>Dhanora</td>\n",
       "      <td>1</td>\n",
       "      <td>1</td>\n",
       "      <td>Diplomatic Personnel (outside of embassy, cons...</td>\n",
       "    </tr>\n",
       "    <tr>\n",
       "      <th>2</th>\n",
       "      <td>200910130011</td>\n",
       "      <td>2009</td>\n",
       "      <td>10</td>\n",
       "      <td>13</td>\n",
       "      <td>4</td>\n",
       "      <td>Afghanistan</td>\n",
       "      <td>6</td>\n",
       "      <td>South Asia</td>\n",
       "      <td>Zabul</td>\n",
       "      <td>Qalat</td>\n",
       "      <td>The attack took place in Qalat, Xabol, Afghani...</td>\n",
       "      <td>1</td>\n",
       "      <td>Armed Assault</td>\n",
       "      <td>Government (General)</td>\n",
       "      <td>Intelligence</td>\n",
       "    </tr>\n",
       "    <tr>\n",
       "      <th>3</th>\n",
       "      <td>200910130013</td>\n",
       "      <td>2009</td>\n",
       "      <td>10</td>\n",
       "      <td>13</td>\n",
       "      <td>92</td>\n",
       "      <td>India</td>\n",
       "      <td>6</td>\n",
       "      <td>South Asia</td>\n",
       "      <td>Bihar</td>\n",
       "      <td>Hussainganj</td>\n",
       "      <td>The attack took place in the Hussainganj area ...</td>\n",
       "      <td>1</td>\n",
       "      <td>Facility/Infrastructure Attack</td>\n",
       "      <td>Telecommunication</td>\n",
       "      <td>Telephone/Telegraph</td>\n",
       "    </tr>\n",
       "    <tr>\n",
       "      <th>4</th>\n",
       "      <td>200910130014</td>\n",
       "      <td>2009</td>\n",
       "      <td>10</td>\n",
       "      <td>13</td>\n",
       "      <td>92</td>\n",
       "      <td>India</td>\n",
       "      <td>6</td>\n",
       "      <td>South Asia</td>\n",
       "      <td>Bihar</td>\n",
       "      <td>Bandhu Bagicha</td>\n",
       "      <td>The attack took place in the Bandhu Bagicha ar...</td>\n",
       "      <td>1</td>\n",
       "      <td>Facility/Infrastructure Attack</td>\n",
       "      <td>Business</td>\n",
       "      <td>Embassy/Consulate</td>\n",
       "    </tr>\n",
       "  </tbody>\n",
       "</table>\n",
       "</div>"
      ],
      "text/plain": [
       "        eventid  iyear  imonth  iday  country         country_txt  region  \\\n",
       "0  197000000001   1970       7     2       58  Dominican Republic       2   \n",
       "1  197000000002   1970       0     0      130              Mexico       1   \n",
       "2  200910130011   2009      10    13        4         Afghanistan       6   \n",
       "3  200910130013   2009      10    13       92               India       6   \n",
       "4  200910130014   2009      10    13       92               India       6   \n",
       "\n",
       "                    region_txt provstate            city  \\\n",
       "0  Central America & Caribbean       NaN   Santo Domingo   \n",
       "1                North America   Federal     Mexico city   \n",
       "2                   South Asia     Zabul           Qalat   \n",
       "3                   South Asia     Bihar     Hussainganj   \n",
       "4                   South Asia     Bihar  Bandhu Bagicha   \n",
       "\n",
       "                                            location  success  \\\n",
       "0                                                NaN        1   \n",
       "1                                                 13  Dhanora   \n",
       "2  The attack took place in Qalat, Xabol, Afghani...        1   \n",
       "3  The attack took place in the Hussainganj area ...        1   \n",
       "4  The attack took place in the Bandhu Bagicha ar...        1   \n",
       "\n",
       "                  attacktype1_txt                targtype1_txt  \\\n",
       "0                   Assassination  Private Citizens & Property   \n",
       "1                               1                            1   \n",
       "2                   Armed Assault         Government (General)   \n",
       "3  Facility/Infrastructure Attack            Telecommunication   \n",
       "4  Facility/Infrastructure Attack                     Business   \n",
       "\n",
       "                                    targsubtype1_txt  \n",
       "0                                     Named Civilian  \n",
       "1  Diplomatic Personnel (outside of embassy, cons...  \n",
       "2                                       Intelligence  \n",
       "3                                Telephone/Telegraph  \n",
       "4                                  Embassy/Consulate  "
      ]
     },
     "execution_count": 15,
     "metadata": {},
     "output_type": "execute_result"
    }
   ],
   "source": [
    "dataset = pd.DataFrame(df,columns=[\"eventid\",\"iyear\",\"imonth\",\"iday\",\"country\",\n",
    "                                   \"country_txt\",\"region\",\"region_txt\",\"provstate\",\n",
    "                                  \"city\",\"location\",\"success\",\"attacktype1_txt\",\n",
    "                                   \"targtype1_txt\",\"targsubtype1_txt\"])\n",
    "dataset.head(5)"
   ]
  },
  {
   "cell_type": "code",
   "execution_count": 16,
   "metadata": {},
   "outputs": [
    {
     "data": {
      "text/plain": [
       "(93951, 15)"
      ]
     },
     "execution_count": 16,
     "metadata": {},
     "output_type": "execute_result"
    }
   ],
   "source": [
    "dataset.shape"
   ]
  },
  {
   "cell_type": "code",
   "execution_count": 17,
   "metadata": {},
   "outputs": [
    {
     "data": {
      "text/html": [
       "<div>\n",
       "<style scoped>\n",
       "    .dataframe tbody tr th:only-of-type {\n",
       "        vertical-align: middle;\n",
       "    }\n",
       "\n",
       "    .dataframe tbody tr th {\n",
       "        vertical-align: top;\n",
       "    }\n",
       "\n",
       "    .dataframe thead th {\n",
       "        text-align: right;\n",
       "    }\n",
       "</style>\n",
       "<table border=\"1\" class=\"dataframe\">\n",
       "  <thead>\n",
       "    <tr style=\"text-align: right;\">\n",
       "      <th></th>\n",
       "      <th>Total</th>\n",
       "      <th>%</th>\n",
       "    </tr>\n",
       "  </thead>\n",
       "  <tbody>\n",
       "    <tr>\n",
       "      <th>location</th>\n",
       "      <td>42925</td>\n",
       "      <td>45.688710</td>\n",
       "    </tr>\n",
       "    <tr>\n",
       "      <th>targsubtype1_txt</th>\n",
       "      <td>587</td>\n",
       "      <td>0.624794</td>\n",
       "    </tr>\n",
       "    <tr>\n",
       "      <th>city</th>\n",
       "      <td>184</td>\n",
       "      <td>0.195847</td>\n",
       "    </tr>\n",
       "    <tr>\n",
       "      <th>provstate</th>\n",
       "      <td>2</td>\n",
       "      <td>0.002129</td>\n",
       "    </tr>\n",
       "    <tr>\n",
       "      <th>targtype1_txt</th>\n",
       "      <td>0</td>\n",
       "      <td>0.000000</td>\n",
       "    </tr>\n",
       "    <tr>\n",
       "      <th>attacktype1_txt</th>\n",
       "      <td>0</td>\n",
       "      <td>0.000000</td>\n",
       "    </tr>\n",
       "    <tr>\n",
       "      <th>success</th>\n",
       "      <td>0</td>\n",
       "      <td>0.000000</td>\n",
       "    </tr>\n",
       "    <tr>\n",
       "      <th>region_txt</th>\n",
       "      <td>0</td>\n",
       "      <td>0.000000</td>\n",
       "    </tr>\n",
       "    <tr>\n",
       "      <th>region</th>\n",
       "      <td>0</td>\n",
       "      <td>0.000000</td>\n",
       "    </tr>\n",
       "    <tr>\n",
       "      <th>country_txt</th>\n",
       "      <td>0</td>\n",
       "      <td>0.000000</td>\n",
       "    </tr>\n",
       "    <tr>\n",
       "      <th>country</th>\n",
       "      <td>0</td>\n",
       "      <td>0.000000</td>\n",
       "    </tr>\n",
       "    <tr>\n",
       "      <th>iday</th>\n",
       "      <td>0</td>\n",
       "      <td>0.000000</td>\n",
       "    </tr>\n",
       "    <tr>\n",
       "      <th>imonth</th>\n",
       "      <td>0</td>\n",
       "      <td>0.000000</td>\n",
       "    </tr>\n",
       "    <tr>\n",
       "      <th>iyear</th>\n",
       "      <td>0</td>\n",
       "      <td>0.000000</td>\n",
       "    </tr>\n",
       "    <tr>\n",
       "      <th>eventid</th>\n",
       "      <td>0</td>\n",
       "      <td>0.000000</td>\n",
       "    </tr>\n",
       "  </tbody>\n",
       "</table>\n",
       "</div>"
      ],
      "text/plain": [
       "                  Total          %\n",
       "location          42925  45.688710\n",
       "targsubtype1_txt    587   0.624794\n",
       "city                184   0.195847\n",
       "provstate             2   0.002129\n",
       "targtype1_txt         0   0.000000\n",
       "attacktype1_txt       0   0.000000\n",
       "success               0   0.000000\n",
       "region_txt            0   0.000000\n",
       "region                0   0.000000\n",
       "country_txt           0   0.000000\n",
       "country               0   0.000000\n",
       "iday                  0   0.000000\n",
       "imonth                0   0.000000\n",
       "iyear                 0   0.000000\n",
       "eventid               0   0.000000"
      ]
     },
     "execution_count": 17,
     "metadata": {},
     "output_type": "execute_result"
    }
   ],
   "source": [
    "mean_missing_percent1=dataset.isnull().mean()*100\n",
    "total_missing1= dataset.isnull().sum().sort_values(ascending=False)\n",
    "\n",
    "missing_data1 = pd.concat([total_missing1,mean_missing_percent1],axis=1,keys=['Total','%'])\n",
    "missing_data1"
   ]
  },
  {
   "cell_type": "markdown",
   "metadata": {},
   "source": [
    "# Fill Missing Values"
   ]
  },
  {
   "cell_type": "code",
   "execution_count": 18,
   "metadata": {},
   "outputs": [],
   "source": [
    "dataset[[\"provstate\"]] = dataset[[\"provstate\"]].fillna(value=\"0\")"
   ]
  },
  {
   "cell_type": "code",
   "execution_count": 19,
   "metadata": {},
   "outputs": [
    {
     "data": {
      "text/html": [
       "<div>\n",
       "<style scoped>\n",
       "    .dataframe tbody tr th:only-of-type {\n",
       "        vertical-align: middle;\n",
       "    }\n",
       "\n",
       "    .dataframe tbody tr th {\n",
       "        vertical-align: top;\n",
       "    }\n",
       "\n",
       "    .dataframe thead th {\n",
       "        text-align: right;\n",
       "    }\n",
       "</style>\n",
       "<table border=\"1\" class=\"dataframe\">\n",
       "  <thead>\n",
       "    <tr style=\"text-align: right;\">\n",
       "      <th></th>\n",
       "      <th>eventid</th>\n",
       "      <th>iyear</th>\n",
       "      <th>imonth</th>\n",
       "      <th>iday</th>\n",
       "      <th>country</th>\n",
       "      <th>country_txt</th>\n",
       "      <th>region</th>\n",
       "      <th>region_txt</th>\n",
       "      <th>provstate</th>\n",
       "      <th>city</th>\n",
       "      <th>location</th>\n",
       "      <th>success</th>\n",
       "      <th>attacktype1_txt</th>\n",
       "      <th>targtype1_txt</th>\n",
       "      <th>targsubtype1_txt</th>\n",
       "    </tr>\n",
       "  </thead>\n",
       "  <tbody>\n",
       "    <tr>\n",
       "      <th>0</th>\n",
       "      <td>197000000001</td>\n",
       "      <td>1970</td>\n",
       "      <td>7</td>\n",
       "      <td>2</td>\n",
       "      <td>58</td>\n",
       "      <td>Dominican Republic</td>\n",
       "      <td>2</td>\n",
       "      <td>Central America &amp; Caribbean</td>\n",
       "      <td>0</td>\n",
       "      <td>Santo Domingo</td>\n",
       "      <td>0</td>\n",
       "      <td>1</td>\n",
       "      <td>Assassination</td>\n",
       "      <td>Private Citizens &amp; Property</td>\n",
       "      <td>Named Civilian</td>\n",
       "    </tr>\n",
       "    <tr>\n",
       "      <th>1</th>\n",
       "      <td>197000000002</td>\n",
       "      <td>1970</td>\n",
       "      <td>0</td>\n",
       "      <td>0</td>\n",
       "      <td>130</td>\n",
       "      <td>Mexico</td>\n",
       "      <td>1</td>\n",
       "      <td>North America</td>\n",
       "      <td>Federal</td>\n",
       "      <td>Mexico city</td>\n",
       "      <td>13</td>\n",
       "      <td>Dhanora</td>\n",
       "      <td>1</td>\n",
       "      <td>1</td>\n",
       "      <td>Diplomatic Personnel (outside of embassy, cons...</td>\n",
       "    </tr>\n",
       "    <tr>\n",
       "      <th>2</th>\n",
       "      <td>200910130011</td>\n",
       "      <td>2009</td>\n",
       "      <td>10</td>\n",
       "      <td>13</td>\n",
       "      <td>4</td>\n",
       "      <td>Afghanistan</td>\n",
       "      <td>6</td>\n",
       "      <td>South Asia</td>\n",
       "      <td>Zabul</td>\n",
       "      <td>Qalat</td>\n",
       "      <td>The attack took place in Qalat, Xabol, Afghani...</td>\n",
       "      <td>1</td>\n",
       "      <td>Armed Assault</td>\n",
       "      <td>Government (General)</td>\n",
       "      <td>Intelligence</td>\n",
       "    </tr>\n",
       "    <tr>\n",
       "      <th>3</th>\n",
       "      <td>200910130013</td>\n",
       "      <td>2009</td>\n",
       "      <td>10</td>\n",
       "      <td>13</td>\n",
       "      <td>92</td>\n",
       "      <td>India</td>\n",
       "      <td>6</td>\n",
       "      <td>South Asia</td>\n",
       "      <td>Bihar</td>\n",
       "      <td>Hussainganj</td>\n",
       "      <td>The attack took place in the Hussainganj area ...</td>\n",
       "      <td>1</td>\n",
       "      <td>Facility/Infrastructure Attack</td>\n",
       "      <td>Telecommunication</td>\n",
       "      <td>Telephone/Telegraph</td>\n",
       "    </tr>\n",
       "    <tr>\n",
       "      <th>4</th>\n",
       "      <td>200910130014</td>\n",
       "      <td>2009</td>\n",
       "      <td>10</td>\n",
       "      <td>13</td>\n",
       "      <td>92</td>\n",
       "      <td>India</td>\n",
       "      <td>6</td>\n",
       "      <td>South Asia</td>\n",
       "      <td>Bihar</td>\n",
       "      <td>Bandhu Bagicha</td>\n",
       "      <td>The attack took place in the Bandhu Bagicha ar...</td>\n",
       "      <td>1</td>\n",
       "      <td>Facility/Infrastructure Attack</td>\n",
       "      <td>Business</td>\n",
       "      <td>Embassy/Consulate</td>\n",
       "    </tr>\n",
       "  </tbody>\n",
       "</table>\n",
       "</div>"
      ],
      "text/plain": [
       "        eventid  iyear  imonth  iday  country         country_txt  region  \\\n",
       "0  197000000001   1970       7     2       58  Dominican Republic       2   \n",
       "1  197000000002   1970       0     0      130              Mexico       1   \n",
       "2  200910130011   2009      10    13        4         Afghanistan       6   \n",
       "3  200910130013   2009      10    13       92               India       6   \n",
       "4  200910130014   2009      10    13       92               India       6   \n",
       "\n",
       "                    region_txt provstate            city  \\\n",
       "0  Central America & Caribbean         0   Santo Domingo   \n",
       "1                North America   Federal     Mexico city   \n",
       "2                   South Asia     Zabul           Qalat   \n",
       "3                   South Asia     Bihar     Hussainganj   \n",
       "4                   South Asia     Bihar  Bandhu Bagicha   \n",
       "\n",
       "                                            location  success  \\\n",
       "0                                                  0        1   \n",
       "1                                                 13  Dhanora   \n",
       "2  The attack took place in Qalat, Xabol, Afghani...        1   \n",
       "3  The attack took place in the Hussainganj area ...        1   \n",
       "4  The attack took place in the Bandhu Bagicha ar...        1   \n",
       "\n",
       "                  attacktype1_txt                targtype1_txt  \\\n",
       "0                   Assassination  Private Citizens & Property   \n",
       "1                               1                            1   \n",
       "2                   Armed Assault         Government (General)   \n",
       "3  Facility/Infrastructure Attack            Telecommunication   \n",
       "4  Facility/Infrastructure Attack                     Business   \n",
       "\n",
       "                                    targsubtype1_txt  \n",
       "0                                     Named Civilian  \n",
       "1  Diplomatic Personnel (outside of embassy, cons...  \n",
       "2                                       Intelligence  \n",
       "3                                Telephone/Telegraph  \n",
       "4                                  Embassy/Consulate  "
      ]
     },
     "execution_count": 19,
     "metadata": {},
     "output_type": "execute_result"
    }
   ],
   "source": [
    "dataset[[\"eventid\",\"iyear\",\"imonth\",\"iday\",\"country\",\n",
    "                                   \"country_txt\",\"region\",\"region_txt\",\n",
    "                                  \"city\",\"location\",\"success\",\"attacktype1_txt\",\n",
    "                                   \"targtype1_txt\",\"targsubtype1_txt\"]] = dataset[[\"eventid\",\"iyear\",\"imonth\",\"iday\",\"country\",\n",
    "                                   \"country_txt\",\"region\",\"region_txt\",\n",
    "                                  \"city\",\"location\",\"success\",\"attacktype1_txt\",\n",
    "                                   \"targtype1_txt\",\"targsubtype1_txt\"]] .fillna(value=0)\n",
    "dataset.head()"
   ]
  },
  {
   "cell_type": "code",
   "execution_count": 20,
   "metadata": {
    "scrolled": true
   },
   "outputs": [
    {
     "data": {
      "text/html": [
       "<div>\n",
       "<style scoped>\n",
       "    .dataframe tbody tr th:only-of-type {\n",
       "        vertical-align: middle;\n",
       "    }\n",
       "\n",
       "    .dataframe tbody tr th {\n",
       "        vertical-align: top;\n",
       "    }\n",
       "\n",
       "    .dataframe thead th {\n",
       "        text-align: right;\n",
       "    }\n",
       "</style>\n",
       "<table border=\"1\" class=\"dataframe\">\n",
       "  <thead>\n",
       "    <tr style=\"text-align: right;\">\n",
       "      <th></th>\n",
       "      <th>eventid</th>\n",
       "      <th>iyear</th>\n",
       "      <th>imonth</th>\n",
       "      <th>iday</th>\n",
       "      <th>country</th>\n",
       "      <th>country_txt</th>\n",
       "      <th>region</th>\n",
       "      <th>region_txt</th>\n",
       "      <th>provstate</th>\n",
       "      <th>city</th>\n",
       "      <th>location</th>\n",
       "      <th>success</th>\n",
       "      <th>attacktype1_txt</th>\n",
       "      <th>targtype1_txt</th>\n",
       "      <th>targsubtype1_txt</th>\n",
       "    </tr>\n",
       "  </thead>\n",
       "  <tbody>\n",
       "    <tr>\n",
       "      <th>0</th>\n",
       "      <td>False</td>\n",
       "      <td>False</td>\n",
       "      <td>False</td>\n",
       "      <td>False</td>\n",
       "      <td>False</td>\n",
       "      <td>False</td>\n",
       "      <td>False</td>\n",
       "      <td>False</td>\n",
       "      <td>False</td>\n",
       "      <td>False</td>\n",
       "      <td>False</td>\n",
       "      <td>False</td>\n",
       "      <td>False</td>\n",
       "      <td>False</td>\n",
       "      <td>False</td>\n",
       "    </tr>\n",
       "    <tr>\n",
       "      <th>1</th>\n",
       "      <td>False</td>\n",
       "      <td>False</td>\n",
       "      <td>False</td>\n",
       "      <td>False</td>\n",
       "      <td>False</td>\n",
       "      <td>False</td>\n",
       "      <td>False</td>\n",
       "      <td>False</td>\n",
       "      <td>False</td>\n",
       "      <td>False</td>\n",
       "      <td>False</td>\n",
       "      <td>False</td>\n",
       "      <td>False</td>\n",
       "      <td>False</td>\n",
       "      <td>False</td>\n",
       "    </tr>\n",
       "    <tr>\n",
       "      <th>2</th>\n",
       "      <td>False</td>\n",
       "      <td>False</td>\n",
       "      <td>False</td>\n",
       "      <td>False</td>\n",
       "      <td>False</td>\n",
       "      <td>False</td>\n",
       "      <td>False</td>\n",
       "      <td>False</td>\n",
       "      <td>False</td>\n",
       "      <td>False</td>\n",
       "      <td>False</td>\n",
       "      <td>False</td>\n",
       "      <td>False</td>\n",
       "      <td>False</td>\n",
       "      <td>False</td>\n",
       "    </tr>\n",
       "    <tr>\n",
       "      <th>3</th>\n",
       "      <td>False</td>\n",
       "      <td>False</td>\n",
       "      <td>False</td>\n",
       "      <td>False</td>\n",
       "      <td>False</td>\n",
       "      <td>False</td>\n",
       "      <td>False</td>\n",
       "      <td>False</td>\n",
       "      <td>False</td>\n",
       "      <td>False</td>\n",
       "      <td>False</td>\n",
       "      <td>False</td>\n",
       "      <td>False</td>\n",
       "      <td>False</td>\n",
       "      <td>False</td>\n",
       "    </tr>\n",
       "    <tr>\n",
       "      <th>4</th>\n",
       "      <td>False</td>\n",
       "      <td>False</td>\n",
       "      <td>False</td>\n",
       "      <td>False</td>\n",
       "      <td>False</td>\n",
       "      <td>False</td>\n",
       "      <td>False</td>\n",
       "      <td>False</td>\n",
       "      <td>False</td>\n",
       "      <td>False</td>\n",
       "      <td>False</td>\n",
       "      <td>False</td>\n",
       "      <td>False</td>\n",
       "      <td>False</td>\n",
       "      <td>False</td>\n",
       "    </tr>\n",
       "    <tr>\n",
       "      <th>...</th>\n",
       "      <td>...</td>\n",
       "      <td>...</td>\n",
       "      <td>...</td>\n",
       "      <td>...</td>\n",
       "      <td>...</td>\n",
       "      <td>...</td>\n",
       "      <td>...</td>\n",
       "      <td>...</td>\n",
       "      <td>...</td>\n",
       "      <td>...</td>\n",
       "      <td>...</td>\n",
       "      <td>...</td>\n",
       "      <td>...</td>\n",
       "      <td>...</td>\n",
       "      <td>...</td>\n",
       "    </tr>\n",
       "    <tr>\n",
       "      <th>93946</th>\n",
       "      <td>False</td>\n",
       "      <td>False</td>\n",
       "      <td>False</td>\n",
       "      <td>False</td>\n",
       "      <td>False</td>\n",
       "      <td>False</td>\n",
       "      <td>False</td>\n",
       "      <td>False</td>\n",
       "      <td>False</td>\n",
       "      <td>False</td>\n",
       "      <td>False</td>\n",
       "      <td>False</td>\n",
       "      <td>False</td>\n",
       "      <td>False</td>\n",
       "      <td>False</td>\n",
       "    </tr>\n",
       "    <tr>\n",
       "      <th>93947</th>\n",
       "      <td>False</td>\n",
       "      <td>False</td>\n",
       "      <td>False</td>\n",
       "      <td>False</td>\n",
       "      <td>False</td>\n",
       "      <td>False</td>\n",
       "      <td>False</td>\n",
       "      <td>False</td>\n",
       "      <td>False</td>\n",
       "      <td>False</td>\n",
       "      <td>False</td>\n",
       "      <td>False</td>\n",
       "      <td>False</td>\n",
       "      <td>False</td>\n",
       "      <td>False</td>\n",
       "    </tr>\n",
       "    <tr>\n",
       "      <th>93948</th>\n",
       "      <td>False</td>\n",
       "      <td>False</td>\n",
       "      <td>False</td>\n",
       "      <td>False</td>\n",
       "      <td>False</td>\n",
       "      <td>False</td>\n",
       "      <td>False</td>\n",
       "      <td>False</td>\n",
       "      <td>False</td>\n",
       "      <td>False</td>\n",
       "      <td>False</td>\n",
       "      <td>False</td>\n",
       "      <td>False</td>\n",
       "      <td>False</td>\n",
       "      <td>False</td>\n",
       "    </tr>\n",
       "    <tr>\n",
       "      <th>93949</th>\n",
       "      <td>False</td>\n",
       "      <td>False</td>\n",
       "      <td>False</td>\n",
       "      <td>False</td>\n",
       "      <td>False</td>\n",
       "      <td>False</td>\n",
       "      <td>False</td>\n",
       "      <td>False</td>\n",
       "      <td>False</td>\n",
       "      <td>False</td>\n",
       "      <td>False</td>\n",
       "      <td>False</td>\n",
       "      <td>False</td>\n",
       "      <td>False</td>\n",
       "      <td>False</td>\n",
       "    </tr>\n",
       "    <tr>\n",
       "      <th>93950</th>\n",
       "      <td>False</td>\n",
       "      <td>False</td>\n",
       "      <td>False</td>\n",
       "      <td>False</td>\n",
       "      <td>False</td>\n",
       "      <td>False</td>\n",
       "      <td>False</td>\n",
       "      <td>False</td>\n",
       "      <td>False</td>\n",
       "      <td>False</td>\n",
       "      <td>False</td>\n",
       "      <td>False</td>\n",
       "      <td>False</td>\n",
       "      <td>False</td>\n",
       "      <td>False</td>\n",
       "    </tr>\n",
       "  </tbody>\n",
       "</table>\n",
       "<p>93951 rows × 15 columns</p>\n",
       "</div>"
      ],
      "text/plain": [
       "       eventid  iyear  imonth   iday  country  country_txt  region  \\\n",
       "0        False  False   False  False    False        False   False   \n",
       "1        False  False   False  False    False        False   False   \n",
       "2        False  False   False  False    False        False   False   \n",
       "3        False  False   False  False    False        False   False   \n",
       "4        False  False   False  False    False        False   False   \n",
       "...        ...    ...     ...    ...      ...          ...     ...   \n",
       "93946    False  False   False  False    False        False   False   \n",
       "93947    False  False   False  False    False        False   False   \n",
       "93948    False  False   False  False    False        False   False   \n",
       "93949    False  False   False  False    False        False   False   \n",
       "93950    False  False   False  False    False        False   False   \n",
       "\n",
       "       region_txt  provstate   city  location  success  attacktype1_txt  \\\n",
       "0           False      False  False     False    False            False   \n",
       "1           False      False  False     False    False            False   \n",
       "2           False      False  False     False    False            False   \n",
       "3           False      False  False     False    False            False   \n",
       "4           False      False  False     False    False            False   \n",
       "...           ...        ...    ...       ...      ...              ...   \n",
       "93946       False      False  False     False    False            False   \n",
       "93947       False      False  False     False    False            False   \n",
       "93948       False      False  False     False    False            False   \n",
       "93949       False      False  False     False    False            False   \n",
       "93950       False      False  False     False    False            False   \n",
       "\n",
       "       targtype1_txt  targsubtype1_txt  \n",
       "0              False             False  \n",
       "1              False             False  \n",
       "2              False             False  \n",
       "3              False             False  \n",
       "4              False             False  \n",
       "...              ...               ...  \n",
       "93946          False             False  \n",
       "93947          False             False  \n",
       "93948          False             False  \n",
       "93949          False             False  \n",
       "93950          False             False  \n",
       "\n",
       "[93951 rows x 15 columns]"
      ]
     },
     "execution_count": 20,
     "metadata": {},
     "output_type": "execute_result"
    }
   ],
   "source": [
    "dataset.isnull()"
   ]
  },
  {
   "cell_type": "code",
   "execution_count": 21,
   "metadata": {},
   "outputs": [
    {
     "data": {
      "text/plain": [
       "eventid             0\n",
       "iyear               0\n",
       "imonth              0\n",
       "iday                0\n",
       "country             0\n",
       "country_txt         0\n",
       "region              0\n",
       "region_txt          0\n",
       "provstate           0\n",
       "city                0\n",
       "location            0\n",
       "success             0\n",
       "attacktype1_txt     0\n",
       "targtype1_txt       0\n",
       "targsubtype1_txt    0\n",
       "dtype: int64"
      ]
     },
     "execution_count": 21,
     "metadata": {},
     "output_type": "execute_result"
    }
   ],
   "source": [
    "dataset.isnull().sum()"
   ]
  },
  {
   "cell_type": "markdown",
   "metadata": {},
   "source": [
    "**Data is ready to use.**"
   ]
  },
  {
   "cell_type": "markdown",
   "metadata": {},
   "source": [
    "# Analayzing Specific Attack Type"
   ]
  },
  {
   "cell_type": "code",
   "execution_count": 22,
   "metadata": {},
   "outputs": [
    {
     "data": {
      "text/html": [
       "<div>\n",
       "<style scoped>\n",
       "    .dataframe tbody tr th:only-of-type {\n",
       "        vertical-align: middle;\n",
       "    }\n",
       "\n",
       "    .dataframe tbody tr th {\n",
       "        vertical-align: top;\n",
       "    }\n",
       "\n",
       "    .dataframe thead th {\n",
       "        text-align: right;\n",
       "    }\n",
       "</style>\n",
       "<table border=\"1\" class=\"dataframe\">\n",
       "  <thead>\n",
       "    <tr style=\"text-align: right;\">\n",
       "      <th></th>\n",
       "      <th>eventid</th>\n",
       "      <th>iyear</th>\n",
       "      <th>imonth</th>\n",
       "      <th>iday</th>\n",
       "      <th>approxdate</th>\n",
       "      <th>extended</th>\n",
       "      <th>resolution</th>\n",
       "      <th>country</th>\n",
       "      <th>country_txt</th>\n",
       "      <th>region</th>\n",
       "      <th>...</th>\n",
       "      <th>Unnamed: 138</th>\n",
       "      <th>Unnamed: 139</th>\n",
       "      <th>Unnamed: 140</th>\n",
       "      <th>Unnamed: 141</th>\n",
       "      <th>Unnamed: 142</th>\n",
       "      <th>Unnamed: 143</th>\n",
       "      <th>Unnamed: 144</th>\n",
       "      <th>Unnamed: 145</th>\n",
       "      <th>Unnamed: 146</th>\n",
       "      <th>Unnamed: 147</th>\n",
       "    </tr>\n",
       "  </thead>\n",
       "  <tbody>\n",
       "    <tr>\n",
       "      <th>0</th>\n",
       "      <td>197000000001</td>\n",
       "      <td>1970</td>\n",
       "      <td>7</td>\n",
       "      <td>2</td>\n",
       "      <td>NaN</td>\n",
       "      <td>0</td>\n",
       "      <td>NaT</td>\n",
       "      <td>58</td>\n",
       "      <td>Dominican Republic</td>\n",
       "      <td>2</td>\n",
       "      <td>...</td>\n",
       "      <td>NaN</td>\n",
       "      <td>NaN</td>\n",
       "      <td>NaN</td>\n",
       "      <td>NaN</td>\n",
       "      <td>NaN</td>\n",
       "      <td>NaN</td>\n",
       "      <td>NaN</td>\n",
       "      <td>NaN</td>\n",
       "      <td>NaN</td>\n",
       "      <td>NaN</td>\n",
       "    </tr>\n",
       "    <tr>\n",
       "      <th>17</th>\n",
       "      <td>200910130027</td>\n",
       "      <td>2009</td>\n",
       "      <td>10</td>\n",
       "      <td>13</td>\n",
       "      <td>NaN</td>\n",
       "      <td>0</td>\n",
       "      <td>NaT</td>\n",
       "      <td>153</td>\n",
       "      <td>Pakistan</td>\n",
       "      <td>6</td>\n",
       "      <td>...</td>\n",
       "      <td>NaN</td>\n",
       "      <td>NaN</td>\n",
       "      <td>NaN</td>\n",
       "      <td>NaN</td>\n",
       "      <td>NaN</td>\n",
       "      <td>NaN</td>\n",
       "      <td>NaN</td>\n",
       "      <td>NaN</td>\n",
       "      <td>NaN</td>\n",
       "      <td>NaN</td>\n",
       "    </tr>\n",
       "    <tr>\n",
       "      <th>18</th>\n",
       "      <td>200910130029</td>\n",
       "      <td>2009</td>\n",
       "      <td>10</td>\n",
       "      <td>13</td>\n",
       "      <td>NaN</td>\n",
       "      <td>0</td>\n",
       "      <td>NaT</td>\n",
       "      <td>95</td>\n",
       "      <td>Iraq</td>\n",
       "      <td>10</td>\n",
       "      <td>...</td>\n",
       "      <td>NaN</td>\n",
       "      <td>NaN</td>\n",
       "      <td>NaN</td>\n",
       "      <td>NaN</td>\n",
       "      <td>NaN</td>\n",
       "      <td>NaN</td>\n",
       "      <td>NaN</td>\n",
       "      <td>NaN</td>\n",
       "      <td>NaN</td>\n",
       "      <td>NaN</td>\n",
       "    </tr>\n",
       "    <tr>\n",
       "      <th>49</th>\n",
       "      <td>200910160013</td>\n",
       "      <td>2009</td>\n",
       "      <td>10</td>\n",
       "      <td>16</td>\n",
       "      <td>NaN</td>\n",
       "      <td>0</td>\n",
       "      <td>NaT</td>\n",
       "      <td>95</td>\n",
       "      <td>Iraq</td>\n",
       "      <td>10</td>\n",
       "      <td>...</td>\n",
       "      <td>NaN</td>\n",
       "      <td>NaN</td>\n",
       "      <td>NaN</td>\n",
       "      <td>NaN</td>\n",
       "      <td>NaN</td>\n",
       "      <td>NaN</td>\n",
       "      <td>NaN</td>\n",
       "      <td>NaN</td>\n",
       "      <td>NaN</td>\n",
       "      <td>NaN</td>\n",
       "    </tr>\n",
       "    <tr>\n",
       "      <th>108</th>\n",
       "      <td>200910210018</td>\n",
       "      <td>2009</td>\n",
       "      <td>10</td>\n",
       "      <td>21</td>\n",
       "      <td>NaN</td>\n",
       "      <td>0</td>\n",
       "      <td>NaT</td>\n",
       "      <td>19</td>\n",
       "      <td>Bangladesh</td>\n",
       "      <td>6</td>\n",
       "      <td>...</td>\n",
       "      <td>NaN</td>\n",
       "      <td>NaN</td>\n",
       "      <td>NaN</td>\n",
       "      <td>NaN</td>\n",
       "      <td>NaN</td>\n",
       "      <td>NaN</td>\n",
       "      <td>NaN</td>\n",
       "      <td>NaN</td>\n",
       "      <td>NaN</td>\n",
       "      <td>NaN</td>\n",
       "    </tr>\n",
       "  </tbody>\n",
       "</table>\n",
       "<p>5 rows × 148 columns</p>\n",
       "</div>"
      ],
      "text/plain": [
       "          eventid  iyear  imonth  iday approxdate  extended resolution  \\\n",
       "0    197000000001   1970       7     2        NaN         0        NaT   \n",
       "17   200910130027   2009      10    13        NaN         0        NaT   \n",
       "18   200910130029   2009      10    13        NaN         0        NaT   \n",
       "49   200910160013   2009      10    16        NaN         0        NaT   \n",
       "108  200910210018   2009      10    21        NaN         0        NaT   \n",
       "\n",
       "     country         country_txt  region  ... Unnamed: 138 Unnamed: 139  \\\n",
       "0         58  Dominican Republic       2  ...          NaN          NaN   \n",
       "17       153            Pakistan       6  ...          NaN          NaN   \n",
       "18        95                Iraq      10  ...          NaN          NaN   \n",
       "49        95                Iraq      10  ...          NaN          NaN   \n",
       "108       19          Bangladesh       6  ...          NaN          NaN   \n",
       "\n",
       "    Unnamed: 140  Unnamed: 141  Unnamed: 142  Unnamed: 143  Unnamed: 144  \\\n",
       "0            NaN           NaN           NaN           NaN           NaN   \n",
       "17           NaN           NaN           NaN           NaN           NaN   \n",
       "18           NaN           NaN           NaN           NaN           NaN   \n",
       "49           NaN           NaN           NaN           NaN           NaN   \n",
       "108          NaN           NaN           NaN           NaN           NaN   \n",
       "\n",
       "    Unnamed: 145 Unnamed: 146  Unnamed: 147  \n",
       "0            NaN          NaN           NaN  \n",
       "17           NaN          NaN           NaN  \n",
       "18           NaN          NaN           NaN  \n",
       "49           NaN          NaN           NaN  \n",
       "108          NaN          NaN           NaN  \n",
       "\n",
       "[5 rows x 148 columns]"
      ]
     },
     "execution_count": 22,
     "metadata": {},
     "output_type": "execute_result"
    }
   ],
   "source": [
    "assassination = df[df['attacktype1_txt'].str.contains(\"Assassination\",na=False)]\n",
    "assassination.head()"
   ]
  },
  {
   "cell_type": "code",
   "execution_count": 23,
   "metadata": {},
   "outputs": [
    {
     "data": {
      "text/plain": [
       "(5824, 148)"
      ]
     },
     "execution_count": 23,
     "metadata": {},
     "output_type": "execute_result"
    }
   ],
   "source": [
    "assassination.shape"
   ]
  },
  {
   "cell_type": "markdown",
   "metadata": {},
   "source": [
    "# Analyzing Places"
   ]
  },
  {
   "cell_type": "code",
   "execution_count": 24,
   "metadata": {},
   "outputs": [
    {
     "data": {
      "text/plain": [
       "country_txt\n",
       "Iraq           977\n",
       "Afghanistan    852\n",
       "Pakistan       786\n",
       "Philippines    599\n",
       "Somalia        421\n",
       "              ... \n",
       "Ireland          1\n",
       "Ghana            1\n",
       "Gabon            1\n",
       "Denmark          1\n",
       "Ivory Coast      1\n",
       "Length: 95, dtype: int64"
      ]
     },
     "execution_count": 24,
     "metadata": {},
     "output_type": "execute_result"
    }
   ],
   "source": [
    "assassination.groupby(\"country_txt\").size().sort_values(ascending=False)"
   ]
  },
  {
   "cell_type": "code",
   "execution_count": 25,
   "metadata": {},
   "outputs": [
    {
     "data": {
      "text/plain": [
       "<AxesSubplot:ylabel='country_txt'>"
      ]
     },
     "execution_count": 25,
     "metadata": {},
     "output_type": "execute_result"
    },
    {
     "data": {
      "image/png": "[encoded data removed]",
      "text/plain": [
       "<Figure size 432x288 with 1 Axes>"
      ]
     },
     "metadata": {
      "needs_background": "light"
     },
     "output_type": "display_data"
    }
   ],
   "source": [
    "co=sns.color_palette(\"Spectral\", as_cmap=True)\n",
    "assassination.groupby(\"country_txt\").size().sort_values(ascending=False).head(15).sort_values().plot(kind='barh')"
   ]
  },
  {
   "cell_type": "markdown",
   "metadata": {},
   "source": [
    "**The five countries with the highest impact from terrorism as measured by the GTI are Iraq, Afghanistan, Nigeria,\n",
    "Pakistan and Syria attack.**"
   ]
  },
  {
   "cell_type": "code",
   "execution_count": 26,
   "metadata": {},
   "outputs": [
    {
     "data": {
      "text/plain": [
       "region_txt\n",
       "South Asia                     2129\n",
       "Middle East & North Africa     1798\n",
       "Sub-Saharan Africa              828\n",
       "Southeast Asia                  729\n",
       "Eastern Europe                  155\n",
       "South America                    92\n",
       "Western Europe                   32\n",
       "North America                    31\n",
       "Central Asia                     15\n",
       "Central America & Caribbean      12\n",
       "East Asia                         3\n",
       "dtype: int64"
      ]
     },
     "execution_count": 26,
     "metadata": {},
     "output_type": "execute_result"
    }
   ],
   "source": [
    "assassination.groupby(\"region_txt\").size().sort_values(ascending=False)"
   ]
  },
  {
   "cell_type": "code",
   "execution_count": 27,
   "metadata": {},
   "outputs": [
    {
     "data": {
      "text/plain": [
       "<AxesSubplot:ylabel='region_txt'>"
      ]
     },
     "execution_count": 27,
     "metadata": {},
     "output_type": "execute_result"
    },
    {
     "data": {
      "image/png": "[encoded data removed]",
      "text/plain": [
       "<Figure size 432x288 with 1 Axes>"
      ]
     },
     "metadata": {
      "needs_background": "light"
     },
     "output_type": "display_data"
    }
   ],
   "source": [
    "assassination.groupby(\"region_txt\").size().sort_values(ascending=False).head(10).sort_values().plot(kind=\"barh\")"
   ]
  },
  {
   "cell_type": "markdown",
   "metadata": {},
   "source": [
    "**The ten most affected countries relative to the size of their economy are all conflict-affected states in the Middle East and\n",
    "North Africa, sub-Saharan Africa and South Asia regions.**"
   ]
  },
  {
   "cell_type": "code",
   "execution_count": 28,
   "metadata": {},
   "outputs": [
    {
     "data": {
      "text/plain": [
       "<AxesSubplot:ylabel='imonth'>"
      ]
     },
     "execution_count": 28,
     "metadata": {},
     "output_type": "execute_result"
    },
    {
     "data": {
      "image/png": "[encoded data removed]",
      "text/plain": [
       "<Figure size 432x288 with 1 Axes>"
      ]
     },
     "metadata": {
      "needs_background": "light"
     },
     "output_type": "display_data"
    }
   ],
   "source": [
    "assassination.groupby(\"imonth\").size().plot(kind=\"barh\")"
   ]
  },
  {
   "cell_type": "code",
   "execution_count": 75,
   "metadata": {},
   "outputs": [
    {
     "data": {
      "text/plain": [
       "<AxesSubplot:xlabel='imonth', ylabel='count'>"
      ]
     },
     "execution_count": 75,
     "metadata": {},
     "output_type": "execute_result"
    },
    {
     "data": {
      "image/png": "[encoded data removed]",
      "text/plain": [
       "<Figure size 432x288 with 1 Axes>"
      ]
     },
     "metadata": {},
     "output_type": "display_data"
    }
   ],
   "source": [
    "sns.countplot(x=df[\"imonth\"],data=df,palette='hls')"
   ]
  },
  {
   "cell_type": "markdown",
   "metadata": {},
   "source": [
    "**There are not much variations for the monthly attacks. But 5th and 7th month \n",
    "has highest number of attacks.**"
   ]
  },
  {
   "cell_type": "code",
   "execution_count": 30,
   "metadata": {},
   "outputs": [],
   "source": [
    "import warnings \n",
    "warnings.filterwarnings(\"ignore\")"
   ]
  },
  {
   "cell_type": "code",
   "execution_count": 31,
   "metadata": {},
   "outputs": [],
   "source": [
    "X = df.iloc[:,0:12]\n",
    "Y = df.iloc[:,12]"
   ]
  },
  {
   "cell_type": "code",
   "execution_count": 32,
   "metadata": {},
   "outputs": [
    {
     "data": {
      "text/html": [
       "<div>\n",
       "<style scoped>\n",
       "    .dataframe tbody tr th:only-of-type {\n",
       "        vertical-align: middle;\n",
       "    }\n",
       "\n",
       "    .dataframe tbody tr th {\n",
       "        vertical-align: top;\n",
       "    }\n",
       "\n",
       "    .dataframe thead th {\n",
       "        text-align: right;\n",
       "    }\n",
       "</style>\n",
       "<table border=\"1\" class=\"dataframe\">\n",
       "  <thead>\n",
       "    <tr style=\"text-align: right;\">\n",
       "      <th></th>\n",
       "      <th>eventid</th>\n",
       "      <th>iyear</th>\n",
       "      <th>imonth</th>\n",
       "      <th>iday</th>\n",
       "      <th>approxdate</th>\n",
       "      <th>extended</th>\n",
       "      <th>resolution</th>\n",
       "      <th>country</th>\n",
       "      <th>country_txt</th>\n",
       "      <th>region</th>\n",
       "      <th>region_txt</th>\n",
       "      <th>provstate</th>\n",
       "    </tr>\n",
       "  </thead>\n",
       "  <tbody>\n",
       "    <tr>\n",
       "      <th>0</th>\n",
       "      <td>197000000001</td>\n",
       "      <td>1970</td>\n",
       "      <td>7</td>\n",
       "      <td>2</td>\n",
       "      <td>NaN</td>\n",
       "      <td>0</td>\n",
       "      <td>NaT</td>\n",
       "      <td>58</td>\n",
       "      <td>Dominican Republic</td>\n",
       "      <td>2</td>\n",
       "      <td>Central America &amp; Caribbean</td>\n",
       "      <td>NaN</td>\n",
       "    </tr>\n",
       "    <tr>\n",
       "      <th>1</th>\n",
       "      <td>197000000002</td>\n",
       "      <td>1970</td>\n",
       "      <td>0</td>\n",
       "      <td>0</td>\n",
       "      <td>NaN</td>\n",
       "      <td>0</td>\n",
       "      <td>NaT</td>\n",
       "      <td>130</td>\n",
       "      <td>Mexico</td>\n",
       "      <td>1</td>\n",
       "      <td>North America</td>\n",
       "      <td>Federal</td>\n",
       "    </tr>\n",
       "    <tr>\n",
       "      <th>2</th>\n",
       "      <td>200910130011</td>\n",
       "      <td>2009</td>\n",
       "      <td>10</td>\n",
       "      <td>13</td>\n",
       "      <td>NaN</td>\n",
       "      <td>0</td>\n",
       "      <td>NaT</td>\n",
       "      <td>4</td>\n",
       "      <td>Afghanistan</td>\n",
       "      <td>6</td>\n",
       "      <td>South Asia</td>\n",
       "      <td>Zabul</td>\n",
       "    </tr>\n",
       "    <tr>\n",
       "      <th>3</th>\n",
       "      <td>200910130013</td>\n",
       "      <td>2009</td>\n",
       "      <td>10</td>\n",
       "      <td>13</td>\n",
       "      <td>NaN</td>\n",
       "      <td>0</td>\n",
       "      <td>NaT</td>\n",
       "      <td>92</td>\n",
       "      <td>India</td>\n",
       "      <td>6</td>\n",
       "      <td>South Asia</td>\n",
       "      <td>Bihar</td>\n",
       "    </tr>\n",
       "    <tr>\n",
       "      <th>4</th>\n",
       "      <td>200910130014</td>\n",
       "      <td>2009</td>\n",
       "      <td>10</td>\n",
       "      <td>13</td>\n",
       "      <td>NaN</td>\n",
       "      <td>0</td>\n",
       "      <td>NaT</td>\n",
       "      <td>92</td>\n",
       "      <td>India</td>\n",
       "      <td>6</td>\n",
       "      <td>South Asia</td>\n",
       "      <td>Bihar</td>\n",
       "    </tr>\n",
       "    <tr>\n",
       "      <th>...</th>\n",
       "      <td>...</td>\n",
       "      <td>...</td>\n",
       "      <td>...</td>\n",
       "      <td>...</td>\n",
       "      <td>...</td>\n",
       "      <td>...</td>\n",
       "      <td>...</td>\n",
       "      <td>...</td>\n",
       "      <td>...</td>\n",
       "      <td>...</td>\n",
       "      <td>...</td>\n",
       "      <td>...</td>\n",
       "    </tr>\n",
       "    <tr>\n",
       "      <th>93946</th>\n",
       "      <td>200910130004</td>\n",
       "      <td>2009</td>\n",
       "      <td>10</td>\n",
       "      <td>13</td>\n",
       "      <td>NaN</td>\n",
       "      <td>0</td>\n",
       "      <td>NaT</td>\n",
       "      <td>45</td>\n",
       "      <td>Colombia</td>\n",
       "      <td>3</td>\n",
       "      <td>South America</td>\n",
       "      <td>Norte de Santander</td>\n",
       "    </tr>\n",
       "    <tr>\n",
       "      <th>93947</th>\n",
       "      <td>200910130005</td>\n",
       "      <td>2009</td>\n",
       "      <td>10</td>\n",
       "      <td>13</td>\n",
       "      <td>NaN</td>\n",
       "      <td>0</td>\n",
       "      <td>NaT</td>\n",
       "      <td>45</td>\n",
       "      <td>Colombia</td>\n",
       "      <td>3</td>\n",
       "      <td>South America</td>\n",
       "      <td>Norte de Santander</td>\n",
       "    </tr>\n",
       "    <tr>\n",
       "      <th>93948</th>\n",
       "      <td>200910130007</td>\n",
       "      <td>2009</td>\n",
       "      <td>10</td>\n",
       "      <td>13</td>\n",
       "      <td>NaN</td>\n",
       "      <td>0</td>\n",
       "      <td>NaT</td>\n",
       "      <td>205</td>\n",
       "      <td>Thailand</td>\n",
       "      <td>5</td>\n",
       "      <td>Southeast Asia</td>\n",
       "      <td>Pattani</td>\n",
       "    </tr>\n",
       "    <tr>\n",
       "      <th>93949</th>\n",
       "      <td>200910130008</td>\n",
       "      <td>2009</td>\n",
       "      <td>10</td>\n",
       "      <td>13</td>\n",
       "      <td>NaN</td>\n",
       "      <td>0</td>\n",
       "      <td>NaT</td>\n",
       "      <td>205</td>\n",
       "      <td>Thailand</td>\n",
       "      <td>5</td>\n",
       "      <td>Southeast Asia</td>\n",
       "      <td>Pattani</td>\n",
       "    </tr>\n",
       "    <tr>\n",
       "      <th>93950</th>\n",
       "      <td>200910130009</td>\n",
       "      <td>2009</td>\n",
       "      <td>10</td>\n",
       "      <td>13</td>\n",
       "      <td>NaN</td>\n",
       "      <td>0</td>\n",
       "      <td>NaT</td>\n",
       "      <td>92</td>\n",
       "      <td>India</td>\n",
       "      <td>6</td>\n",
       "      <td>South Asia</td>\n",
       "      <td>Orissa</td>\n",
       "    </tr>\n",
       "  </tbody>\n",
       "</table>\n",
       "<p>93951 rows × 12 columns</p>\n",
       "</div>"
      ],
      "text/plain": [
       "            eventid  iyear  imonth  iday approxdate  extended resolution  \\\n",
       "0      197000000001   1970       7     2        NaN         0        NaT   \n",
       "1      197000000002   1970       0     0        NaN         0        NaT   \n",
       "2      200910130011   2009      10    13        NaN         0        NaT   \n",
       "3      200910130013   2009      10    13        NaN         0        NaT   \n",
       "4      200910130014   2009      10    13        NaN         0        NaT   \n",
       "...             ...    ...     ...   ...        ...       ...        ...   \n",
       "93946  200910130004   2009      10    13        NaN         0        NaT   \n",
       "93947  200910130005   2009      10    13        NaN         0        NaT   \n",
       "93948  200910130007   2009      10    13        NaN         0        NaT   \n",
       "93949  200910130008   2009      10    13        NaN         0        NaT   \n",
       "93950  200910130009   2009      10    13        NaN         0        NaT   \n",
       "\n",
       "       country         country_txt  region                   region_txt  \\\n",
       "0           58  Dominican Republic       2  Central America & Caribbean   \n",
       "1          130              Mexico       1                North America   \n",
       "2            4         Afghanistan       6                   South Asia   \n",
       "3           92               India       6                   South Asia   \n",
       "4           92               India       6                   South Asia   \n",
       "...        ...                 ...     ...                          ...   \n",
       "93946       45            Colombia       3                South America   \n",
       "93947       45            Colombia       3                South America   \n",
       "93948      205            Thailand       5               Southeast Asia   \n",
       "93949      205            Thailand       5               Southeast Asia   \n",
       "93950       92               India       6                   South Asia   \n",
       "\n",
       "                provstate  \n",
       "0                     NaN  \n",
       "1                 Federal  \n",
       "2                   Zabul  \n",
       "3                   Bihar  \n",
       "4                   Bihar  \n",
       "...                   ...  \n",
       "93946  Norte de Santander  \n",
       "93947  Norte de Santander  \n",
       "93948             Pattani  \n",
       "93949             Pattani  \n",
       "93950              Orissa  \n",
       "\n",
       "[93951 rows x 12 columns]"
      ]
     },
     "execution_count": 32,
     "metadata": {},
     "output_type": "execute_result"
    }
   ],
   "source": [
    "X"
   ]
  },
  {
   "cell_type": "code",
   "execution_count": 33,
   "metadata": {},
   "outputs": [
    {
     "data": {
      "text/plain": [
       "0         Santo Domingo\n",
       "1           Mexico city\n",
       "2                 Qalat\n",
       "3           Hussainganj\n",
       "4        Bandhu Bagicha\n",
       "              ...      \n",
       "93946              Tibu\n",
       "93947              Tibu\n",
       "93948         Nong Chik\n",
       "93949              Mayo\n",
       "93950        Mayurbhanj\n",
       "Name: city, Length: 93951, dtype: object"
      ]
     },
     "execution_count": 33,
     "metadata": {},
     "output_type": "execute_result"
    }
   ],
   "source": [
    "Y"
   ]
  },
  {
   "cell_type": "markdown",
   "metadata": {},
   "source": [
    "# Save clean data to excel/csv"
   ]
  },
  {
   "cell_type": "code",
   "execution_count": 34,
   "metadata": {},
   "outputs": [],
   "source": [
    "dataset.to_excel('saved1.xlsx')"
   ]
  },
  {
   "cell_type": "code",
   "execution_count": 35,
   "metadata": {},
   "outputs": [],
   "source": [
    "dataset.to_excel(\"output.xlsx\",\n",
    "             sheet_name='Sheet_name_1') "
   ]
  },
  {
   "cell_type": "code",
   "execution_count": 36,
   "metadata": {},
   "outputs": [],
   "source": [
    "dataset.to_csv('raw_data2.csv', index=False)"
   ]
  },
  {
   "cell_type": "markdown",
   "metadata": {},
   "source": [
    "# Analysis"
   ]
  },
  {
   "cell_type": "code",
   "execution_count": 38,
   "metadata": {},
   "outputs": [
    {
     "data": {
      "text/plain": [
       "array([[<AxesSubplot:title={'center':'eventid'}>,\n",
       "        <AxesSubplot:title={'center':'iyear'}>],\n",
       "       [<AxesSubplot:title={'center':'imonth'}>,\n",
       "        <AxesSubplot:title={'center':'iday'}>],\n",
       "       [<AxesSubplot:title={'center':'country'}>,\n",
       "        <AxesSubplot:title={'center':'region'}>]], dtype=object)"
      ]
     },
     "execution_count": 38,
     "metadata": {},
     "output_type": "execute_result"
    },
    {
     "data": {
      "image/png": "[encoded data removed]",
      "text/plain": [
       "<Figure size 1440x1440 with 6 Axes>"
      ]
     },
     "metadata": {},
     "output_type": "display_data"
    }
   ],
   "source": [
    "dataset.hist(color='magenta',edgecolor='black', linewidth=1.2, figsize=(20, 20))"
   ]
  },
  {
   "cell_type": "markdown",
   "metadata": {},
   "source": [
    "**After 2010 attacks are increased.**"
   ]
  },
  {
   "cell_type": "code",
   "execution_count": 70,
   "metadata": {},
   "outputs": [
    {
     "data": {
      "text/plain": [
       "Private Citizens & Property       25476\n",
       "Military                          16509\n",
       "Police                            13996\n",
       "Government (General)               9781\n",
       "Business                           7248\n",
       "Unknown                            4907\n",
       "Religious Figures/Institutions     2495\n",
       "Educational Institution            2449\n",
       "Transportation                     2333\n",
       "Terrorists/Non-State Militia       2088\n",
       "Utilities                          1932\n",
       "Journalists & Media                1122\n",
       "Violent Political Party            1045\n",
       "Government (Diplomatic)             930\n",
       "NGO                                 494\n",
       "Telecommunication                   472\n",
       "Airports & Aircraft                 253\n",
       "Food or Water Supply                118\n",
       "Other                                99\n",
       "Maritime                             99\n",
       "Tourists                             90\n",
       "Abortion Related                     14\n",
       "1                                     1\n",
       "Name: targtype1_txt, dtype: int64"
      ]
     },
     "execution_count": 70,
     "metadata": {},
     "output_type": "execute_result"
    }
   ],
   "source": [
    "df['targtype1_txt'].value_counts()"
   ]
  },
  {
   "cell_type": "code",
   "execution_count": 67,
   "metadata": {},
   "outputs": [
    {
     "data": {
      "text/plain": [
       "<matplotlib.colors.LinearSegmentedColormap at 0x22a6e401850>"
      ]
     },
     "execution_count": 67,
     "metadata": {},
     "output_type": "execute_result"
    },
    {
     "data": {
      "image/png": "[encoded data removed]",
      "text/plain": [
       "<Figure size 1440x576 with 1 Axes>"
      ]
     },
     "metadata": {},
     "output_type": "display_data"
    }
   ],
   "source": [
    "plt.figure(figsize=(20,8))\n",
    "plt.xticks(rotation=45)\n",
    "sns.countplot(x=df['targtype1_txt'])\n",
    "sns.diverging_palette(250, 30, l=65, center=\"dark\", as_cmap=True)"
   ]
  },
  {
   "cell_type": "markdown",
   "metadata": {},
   "source": [
    "**Private citizens and property is the group facing the highest number of deaths from terrorist attacks.**"
   ]
  },
  {
   "cell_type": "code",
   "execution_count": 39,
   "metadata": {},
   "outputs": [
    {
     "data": {
      "text/plain": [
       "Index(['eventid', 'iyear', 'imonth', 'iday', 'country', 'country_txt',\n",
       "       'region', 'region_txt', 'provstate', 'city', 'location', 'success',\n",
       "       'attacktype1_txt', 'targtype1_txt', 'targsubtype1_txt'],\n",
       "      dtype='object')"
      ]
     },
     "execution_count": 39,
     "metadata": {},
     "output_type": "execute_result"
    }
   ],
   "source": [
    "dataset.columns"
   ]
  },
  {
   "cell_type": "code",
   "execution_count": 40,
   "metadata": {},
   "outputs": [
    {
     "data": {
      "text/plain": [
       "Unnamed Civilian/Unspecified                               8299\n",
       "Police Security Forces/Officers                            6240\n",
       "Military Personnel (soldiers, troops, officers, forces)    5741\n",
       "Village/City/Town/Suburb                                   3969\n",
       "Government Personnel (excluding police, military)          3871\n",
       "                                                           ... \n",
       "Other Facility                                               11\n",
       "Internet Infrastructure                                      10\n",
       "Royalty                                                       9\n",
       "Tourism Travel Agency                                         3\n",
       "Personnel                                                     1\n",
       "Name: targsubtype1_txt, Length: 113, dtype: int64"
      ]
     },
     "execution_count": 40,
     "metadata": {},
     "output_type": "execute_result"
    }
   ],
   "source": [
    "dataset['targsubtype1_txt'].value_counts()"
   ]
  },
  {
   "cell_type": "code",
   "execution_count": 68,
   "metadata": {},
   "outputs": [
    {
     "data": {
      "text/plain": [
       "<AxesSubplot:xlabel='iyear', ylabel='count'>"
      ]
     },
     "execution_count": 68,
     "metadata": {},
     "output_type": "execute_result"
    },
    {
     "data": {
      "image/png": "[encoded data removed]",
      "text/plain": [
       "<Figure size 1440x576 with 1 Axes>"
      ]
     },
     "metadata": {},
     "output_type": "display_data"
    }
   ],
   "source": [
    "plt.figure(figsize=(20,8))\n",
    "sns.countplot(x=df['iyear'],palette='viridis')"
   ]
  },
  {
   "cell_type": "markdown",
   "metadata": {},
   "source": [
    "**Of the last 16 years, the worst year for terrorism was 2014.**"
   ]
  },
  {
   "cell_type": "code",
   "execution_count": 43,
   "metadata": {},
   "outputs": [
    {
     "data": {
      "text/plain": [
       "targtype1_txt            iyear\n",
       "1                        1970     1.000000\n",
       "Abortion Related         2015     0.357143\n",
       "                         2012     0.285714\n",
       "                         2013     0.142857\n",
       "                         2009     0.071429\n",
       "                                    ...   \n",
       "Violent Political Party  2016     0.076555\n",
       "                         2010     0.044019\n",
       "                         2009     0.042105\n",
       "                         2011     0.023923\n",
       "                         2008     0.022967\n",
       "Name: iyear, Length: 218, dtype: float64"
      ]
     },
     "execution_count": 43,
     "metadata": {},
     "output_type": "execute_result"
    }
   ],
   "source": [
    "month = dataset.groupby('targtype1_txt')['iyear'].value_counts(normalize=True)\n",
    "month"
   ]
  },
  {
   "cell_type": "code",
   "execution_count": 64,
   "metadata": {},
   "outputs": [
    {
     "data": {
      "image/png": "[encoded data removed]",
      "text/plain": [
       "<Figure size 1710.78x360 with 1 Axes>"
      ]
     },
     "metadata": {},
     "output_type": "display_data"
    }
   ],
   "source": [
    "with sns.axes_style('dark'):\n",
    "    g = sns.factorplot(\"iyear\", data=df, aspect=4.0, kind='count',\n",
    "                       hue='targtype1_txt', order=range(2001, 2015))\n",
    "    g.set_ylabels('Number of targets each year')"
   ]
  },
  {
   "cell_type": "markdown",
   "metadata": {},
   "source": [
    "**Number of deaths are increasing year by year because of different targets. Where 2014 includes maximum targets and \n",
    "shows top most affected year.**"
   ]
  },
  {
   "cell_type": "code",
   "execution_count": 72,
   "metadata": {},
   "outputs": [
    {
     "data": {
      "image/png": "[encoded data removed]",
      "text/plain": [
       "<Figure size 1763.03x360 with 1 Axes>"
      ]
     },
     "metadata": {},
     "output_type": "display_data"
    }
   ],
   "source": [
    "with sns.axes_style('dark'):\n",
    "    g = sns.factorplot(\"iyear\", data=df, aspect=4.0, kind='count',\n",
    "                       hue='attacktype1_txt')\n",
    "    g.set_ylabels('Number of attacks')"
   ]
  },
  {
   "cell_type": "markdown",
   "metadata": {},
   "source": [
    "**Most of the attacks were by firearms with bombings and explosives making up a smaller percentage of terrorist attacks.**"
   ]
  },
  {
   "cell_type": "code",
   "execution_count": 46,
   "metadata": {},
   "outputs": [
    {
     "data": {
      "text/plain": [
       "Index(['eventid', 'iyear', 'imonth', 'iday', 'country', 'country_txt',\n",
       "       'region', 'region_txt', 'provstate', 'city', 'location', 'success',\n",
       "       'attacktype1_txt', 'targtype1_txt', 'targsubtype1_txt'],\n",
       "      dtype='object')"
      ]
     },
     "execution_count": 46,
     "metadata": {},
     "output_type": "execute_result"
    }
   ],
   "source": [
    "dataset.columns"
   ]
  },
  {
   "cell_type": "code",
   "execution_count": 47,
   "metadata": {},
   "outputs": [
    {
     "data": {
      "text/html": [
       "<div>\n",
       "<style scoped>\n",
       "    .dataframe tbody tr th:only-of-type {\n",
       "        vertical-align: middle;\n",
       "    }\n",
       "\n",
       "    .dataframe tbody tr th {\n",
       "        vertical-align: top;\n",
       "    }\n",
       "\n",
       "    .dataframe thead th {\n",
       "        text-align: right;\n",
       "    }\n",
       "</style>\n",
       "<table border=\"1\" class=\"dataframe\">\n",
       "  <thead>\n",
       "    <tr style=\"text-align: right;\">\n",
       "      <th></th>\n",
       "      <th>iyear</th>\n",
       "      <th>region</th>\n",
       "    </tr>\n",
       "  </thead>\n",
       "  <tbody>\n",
       "    <tr>\n",
       "      <th>iyear</th>\n",
       "      <td>1.000000</td>\n",
       "      <td>0.131046</td>\n",
       "    </tr>\n",
       "    <tr>\n",
       "      <th>region</th>\n",
       "      <td>0.131046</td>\n",
       "      <td>1.000000</td>\n",
       "    </tr>\n",
       "  </tbody>\n",
       "</table>\n",
       "</div>"
      ],
      "text/plain": [
       "           iyear    region\n",
       "iyear   1.000000  0.131046\n",
       "region  0.131046  1.000000"
      ]
     },
     "execution_count": 47,
     "metadata": {},
     "output_type": "execute_result"
    }
   ],
   "source": [
    "matrix = dataset[['iyear','region']]\n",
    "matrix.corr()"
   ]
  },
  {
   "cell_type": "markdown",
   "metadata": {},
   "source": [
    "# One Hot Encoding"
   ]
  },
  {
   "cell_type": "code",
   "execution_count": 48,
   "metadata": {},
   "outputs": [],
   "source": [
    "#Convert categoriCal values into numerical ones"
   ]
  },
  {
   "cell_type": "code",
   "execution_count": 49,
   "metadata": {},
   "outputs": [
    {
     "data": {
      "text/html": [
       "<div>\n",
       "<style scoped>\n",
       "    .dataframe tbody tr th:only-of-type {\n",
       "        vertical-align: middle;\n",
       "    }\n",
       "\n",
       "    .dataframe tbody tr th {\n",
       "        vertical-align: top;\n",
       "    }\n",
       "\n",
       "    .dataframe thead th {\n",
       "        text-align: right;\n",
       "    }\n",
       "</style>\n",
       "<table border=\"1\" class=\"dataframe\">\n",
       "  <thead>\n",
       "    <tr style=\"text-align: right;\">\n",
       "      <th></th>\n",
       "      <th>eventid</th>\n",
       "      <th>iyear</th>\n",
       "      <th>imonth</th>\n",
       "      <th>iday</th>\n",
       "      <th>country</th>\n",
       "      <th>country_txt</th>\n",
       "      <th>region</th>\n",
       "      <th>region_txt</th>\n",
       "      <th>provstate</th>\n",
       "      <th>city</th>\n",
       "      <th>location</th>\n",
       "      <th>success</th>\n",
       "      <th>attacktype1_txt</th>\n",
       "      <th>targtype1_txt</th>\n",
       "      <th>targsubtype1_txt</th>\n",
       "    </tr>\n",
       "  </thead>\n",
       "  <tbody>\n",
       "    <tr>\n",
       "      <th>0</th>\n",
       "      <td>197000000001</td>\n",
       "      <td>1970</td>\n",
       "      <td>7</td>\n",
       "      <td>2</td>\n",
       "      <td>58</td>\n",
       "      <td>Dominican Republic</td>\n",
       "      <td>2</td>\n",
       "      <td>Central America &amp; Caribbean</td>\n",
       "      <td>0</td>\n",
       "      <td>Santo Domingo</td>\n",
       "      <td>0</td>\n",
       "      <td>1</td>\n",
       "      <td>Assassination</td>\n",
       "      <td>Private Citizens &amp; Property</td>\n",
       "      <td>Named Civilian</td>\n",
       "    </tr>\n",
       "    <tr>\n",
       "      <th>1</th>\n",
       "      <td>197000000002</td>\n",
       "      <td>1970</td>\n",
       "      <td>0</td>\n",
       "      <td>0</td>\n",
       "      <td>130</td>\n",
       "      <td>Mexico</td>\n",
       "      <td>1</td>\n",
       "      <td>North America</td>\n",
       "      <td>Federal</td>\n",
       "      <td>Mexico city</td>\n",
       "      <td>13</td>\n",
       "      <td>Dhanora</td>\n",
       "      <td>1</td>\n",
       "      <td>1</td>\n",
       "      <td>Diplomatic Personnel (outside of embassy, cons...</td>\n",
       "    </tr>\n",
       "    <tr>\n",
       "      <th>2</th>\n",
       "      <td>200910130011</td>\n",
       "      <td>2009</td>\n",
       "      <td>10</td>\n",
       "      <td>13</td>\n",
       "      <td>4</td>\n",
       "      <td>Afghanistan</td>\n",
       "      <td>6</td>\n",
       "      <td>South Asia</td>\n",
       "      <td>Zabul</td>\n",
       "      <td>Qalat</td>\n",
       "      <td>The attack took place in Qalat, Xabol, Afghani...</td>\n",
       "      <td>1</td>\n",
       "      <td>Armed Assault</td>\n",
       "      <td>Government (General)</td>\n",
       "      <td>Intelligence</td>\n",
       "    </tr>\n",
       "    <tr>\n",
       "      <th>3</th>\n",
       "      <td>200910130013</td>\n",
       "      <td>2009</td>\n",
       "      <td>10</td>\n",
       "      <td>13</td>\n",
       "      <td>92</td>\n",
       "      <td>India</td>\n",
       "      <td>6</td>\n",
       "      <td>South Asia</td>\n",
       "      <td>Bihar</td>\n",
       "      <td>Hussainganj</td>\n",
       "      <td>The attack took place in the Hussainganj area ...</td>\n",
       "      <td>1</td>\n",
       "      <td>Facility/Infrastructure Attack</td>\n",
       "      <td>Telecommunication</td>\n",
       "      <td>Telephone/Telegraph</td>\n",
       "    </tr>\n",
       "    <tr>\n",
       "      <th>4</th>\n",
       "      <td>200910130014</td>\n",
       "      <td>2009</td>\n",
       "      <td>10</td>\n",
       "      <td>13</td>\n",
       "      <td>92</td>\n",
       "      <td>India</td>\n",
       "      <td>6</td>\n",
       "      <td>South Asia</td>\n",
       "      <td>Bihar</td>\n",
       "      <td>Bandhu Bagicha</td>\n",
       "      <td>The attack took place in the Bandhu Bagicha ar...</td>\n",
       "      <td>1</td>\n",
       "      <td>Facility/Infrastructure Attack</td>\n",
       "      <td>Business</td>\n",
       "      <td>Embassy/Consulate</td>\n",
       "    </tr>\n",
       "  </tbody>\n",
       "</table>\n",
       "</div>"
      ],
      "text/plain": [
       "        eventid  iyear  imonth  iday  country         country_txt  region  \\\n",
       "0  197000000001   1970       7     2       58  Dominican Republic       2   \n",
       "1  197000000002   1970       0     0      130              Mexico       1   \n",
       "2  200910130011   2009      10    13        4         Afghanistan       6   \n",
       "3  200910130013   2009      10    13       92               India       6   \n",
       "4  200910130014   2009      10    13       92               India       6   \n",
       "\n",
       "                    region_txt provstate            city  \\\n",
       "0  Central America & Caribbean         0   Santo Domingo   \n",
       "1                North America   Federal     Mexico city   \n",
       "2                   South Asia     Zabul           Qalat   \n",
       "3                   South Asia     Bihar     Hussainganj   \n",
       "4                   South Asia     Bihar  Bandhu Bagicha   \n",
       "\n",
       "                                            location  success  \\\n",
       "0                                                  0        1   \n",
       "1                                                 13  Dhanora   \n",
       "2  The attack took place in Qalat, Xabol, Afghani...        1   \n",
       "3  The attack took place in the Hussainganj area ...        1   \n",
       "4  The attack took place in the Bandhu Bagicha ar...        1   \n",
       "\n",
       "                  attacktype1_txt                targtype1_txt  \\\n",
       "0                   Assassination  Private Citizens & Property   \n",
       "1                               1                            1   \n",
       "2                   Armed Assault         Government (General)   \n",
       "3  Facility/Infrastructure Attack            Telecommunication   \n",
       "4  Facility/Infrastructure Attack                     Business   \n",
       "\n",
       "                                    targsubtype1_txt  \n",
       "0                                     Named Civilian  \n",
       "1  Diplomatic Personnel (outside of embassy, cons...  \n",
       "2                                       Intelligence  \n",
       "3                                Telephone/Telegraph  \n",
       "4                                  Embassy/Consulate  "
      ]
     },
     "execution_count": 49,
     "metadata": {},
     "output_type": "execute_result"
    }
   ],
   "source": [
    "dataset.head()"
   ]
  },
  {
   "cell_type": "code",
   "execution_count": 50,
   "metadata": {},
   "outputs": [],
   "source": [
    "dataset['success'] = dataset['success'].replace(['Dhanora'],1)"
   ]
  },
  {
   "cell_type": "code",
   "execution_count": 51,
   "metadata": {},
   "outputs": [],
   "source": [
    "dataset['location'] = dataset['location'].replace([13],'Dhanora')"
   ]
  },
  {
   "cell_type": "code",
   "execution_count": 52,
   "metadata": {},
   "outputs": [],
   "source": [
    "from sklearn.preprocessing import LabelEncoder\n",
    "lb=LabelEncoder()"
   ]
  },
  {
   "cell_type": "code",
   "execution_count": 53,
   "metadata": {},
   "outputs": [],
   "source": [
    "dataset[\"success\"]=lb.fit_transform(dataset[\"success\"])"
   ]
  },
  {
   "cell_type": "code",
   "execution_count": 54,
   "metadata": {},
   "outputs": [
    {
     "data": {
      "text/html": [
       "<div>\n",
       "<style scoped>\n",
       "    .dataframe tbody tr th:only-of-type {\n",
       "        vertical-align: middle;\n",
       "    }\n",
       "\n",
       "    .dataframe tbody tr th {\n",
       "        vertical-align: top;\n",
       "    }\n",
       "\n",
       "    .dataframe thead th {\n",
       "        text-align: right;\n",
       "    }\n",
       "</style>\n",
       "<table border=\"1\" class=\"dataframe\">\n",
       "  <thead>\n",
       "    <tr style=\"text-align: right;\">\n",
       "      <th></th>\n",
       "      <th>eventid</th>\n",
       "      <th>iyear</th>\n",
       "      <th>imonth</th>\n",
       "      <th>iday</th>\n",
       "      <th>country</th>\n",
       "      <th>country_txt</th>\n",
       "      <th>region</th>\n",
       "      <th>region_txt</th>\n",
       "      <th>provstate</th>\n",
       "      <th>city</th>\n",
       "      <th>location</th>\n",
       "      <th>success</th>\n",
       "      <th>attacktype1_txt</th>\n",
       "      <th>targtype1_txt</th>\n",
       "      <th>targsubtype1_txt</th>\n",
       "    </tr>\n",
       "  </thead>\n",
       "  <tbody>\n",
       "    <tr>\n",
       "      <th>0</th>\n",
       "      <td>197000000001</td>\n",
       "      <td>1970</td>\n",
       "      <td>7</td>\n",
       "      <td>2</td>\n",
       "      <td>58</td>\n",
       "      <td>Dominican Republic</td>\n",
       "      <td>2</td>\n",
       "      <td>Central America &amp; Caribbean</td>\n",
       "      <td>0</td>\n",
       "      <td>Santo Domingo</td>\n",
       "      <td>0</td>\n",
       "      <td>1</td>\n",
       "      <td>Assassination</td>\n",
       "      <td>Private Citizens &amp; Property</td>\n",
       "      <td>Named Civilian</td>\n",
       "    </tr>\n",
       "    <tr>\n",
       "      <th>1</th>\n",
       "      <td>197000000002</td>\n",
       "      <td>1970</td>\n",
       "      <td>0</td>\n",
       "      <td>0</td>\n",
       "      <td>130</td>\n",
       "      <td>Mexico</td>\n",
       "      <td>1</td>\n",
       "      <td>North America</td>\n",
       "      <td>Federal</td>\n",
       "      <td>Mexico city</td>\n",
       "      <td>Dhanora</td>\n",
       "      <td>1</td>\n",
       "      <td>1</td>\n",
       "      <td>1</td>\n",
       "      <td>Diplomatic Personnel (outside of embassy, cons...</td>\n",
       "    </tr>\n",
       "    <tr>\n",
       "      <th>2</th>\n",
       "      <td>200910130011</td>\n",
       "      <td>2009</td>\n",
       "      <td>10</td>\n",
       "      <td>13</td>\n",
       "      <td>4</td>\n",
       "      <td>Afghanistan</td>\n",
       "      <td>6</td>\n",
       "      <td>South Asia</td>\n",
       "      <td>Zabul</td>\n",
       "      <td>Qalat</td>\n",
       "      <td>The attack took place in Qalat, Xabol, Afghani...</td>\n",
       "      <td>1</td>\n",
       "      <td>Armed Assault</td>\n",
       "      <td>Government (General)</td>\n",
       "      <td>Intelligence</td>\n",
       "    </tr>\n",
       "    <tr>\n",
       "      <th>3</th>\n",
       "      <td>200910130013</td>\n",
       "      <td>2009</td>\n",
       "      <td>10</td>\n",
       "      <td>13</td>\n",
       "      <td>92</td>\n",
       "      <td>India</td>\n",
       "      <td>6</td>\n",
       "      <td>South Asia</td>\n",
       "      <td>Bihar</td>\n",
       "      <td>Hussainganj</td>\n",
       "      <td>The attack took place in the Hussainganj area ...</td>\n",
       "      <td>1</td>\n",
       "      <td>Facility/Infrastructure Attack</td>\n",
       "      <td>Telecommunication</td>\n",
       "      <td>Telephone/Telegraph</td>\n",
       "    </tr>\n",
       "    <tr>\n",
       "      <th>4</th>\n",
       "      <td>200910130014</td>\n",
       "      <td>2009</td>\n",
       "      <td>10</td>\n",
       "      <td>13</td>\n",
       "      <td>92</td>\n",
       "      <td>India</td>\n",
       "      <td>6</td>\n",
       "      <td>South Asia</td>\n",
       "      <td>Bihar</td>\n",
       "      <td>Bandhu Bagicha</td>\n",
       "      <td>The attack took place in the Bandhu Bagicha ar...</td>\n",
       "      <td>1</td>\n",
       "      <td>Facility/Infrastructure Attack</td>\n",
       "      <td>Business</td>\n",
       "      <td>Embassy/Consulate</td>\n",
       "    </tr>\n",
       "  </tbody>\n",
       "</table>\n",
       "</div>"
      ],
      "text/plain": [
       "        eventid  iyear  imonth  iday  country         country_txt  region  \\\n",
       "0  197000000001   1970       7     2       58  Dominican Republic       2   \n",
       "1  197000000002   1970       0     0      130              Mexico       1   \n",
       "2  200910130011   2009      10    13        4         Afghanistan       6   \n",
       "3  200910130013   2009      10    13       92               India       6   \n",
       "4  200910130014   2009      10    13       92               India       6   \n",
       "\n",
       "                    region_txt provstate            city  \\\n",
       "0  Central America & Caribbean         0   Santo Domingo   \n",
       "1                North America   Federal     Mexico city   \n",
       "2                   South Asia     Zabul           Qalat   \n",
       "3                   South Asia     Bihar     Hussainganj   \n",
       "4                   South Asia     Bihar  Bandhu Bagicha   \n",
       "\n",
       "                                            location  success  \\\n",
       "0                                                  0        1   \n",
       "1                                            Dhanora        1   \n",
       "2  The attack took place in Qalat, Xabol, Afghani...        1   \n",
       "3  The attack took place in the Hussainganj area ...        1   \n",
       "4  The attack took place in the Bandhu Bagicha ar...        1   \n",
       "\n",
       "                  attacktype1_txt                targtype1_txt  \\\n",
       "0                   Assassination  Private Citizens & Property   \n",
       "1                               1                            1   \n",
       "2                   Armed Assault         Government (General)   \n",
       "3  Facility/Infrastructure Attack            Telecommunication   \n",
       "4  Facility/Infrastructure Attack                     Business   \n",
       "\n",
       "                                    targsubtype1_txt  \n",
       "0                                     Named Civilian  \n",
       "1  Diplomatic Personnel (outside of embassy, cons...  \n",
       "2                                       Intelligence  \n",
       "3                                Telephone/Telegraph  \n",
       "4                                  Embassy/Consulate  "
      ]
     },
     "execution_count": 54,
     "metadata": {},
     "output_type": "execute_result"
    }
   ],
   "source": [
    "dataset.head()"
   ]
  },
  {
   "cell_type": "code",
   "execution_count": 55,
   "metadata": {},
   "outputs": [],
   "source": [
    "dataset['country_txt']=lb.fit_transform(dataset['country_txt'])"
   ]
  },
  {
   "cell_type": "code",
   "execution_count": 56,
   "metadata": {},
   "outputs": [
    {
     "data": {
      "text/html": [
       "<div>\n",
       "<style scoped>\n",
       "    .dataframe tbody tr th:only-of-type {\n",
       "        vertical-align: middle;\n",
       "    }\n",
       "\n",
       "    .dataframe tbody tr th {\n",
       "        vertical-align: top;\n",
       "    }\n",
       "\n",
       "    .dataframe thead th {\n",
       "        text-align: right;\n",
       "    }\n",
       "</style>\n",
       "<table border=\"1\" class=\"dataframe\">\n",
       "  <thead>\n",
       "    <tr style=\"text-align: right;\">\n",
       "      <th></th>\n",
       "      <th>eventid</th>\n",
       "      <th>iyear</th>\n",
       "      <th>imonth</th>\n",
       "      <th>iday</th>\n",
       "      <th>country</th>\n",
       "      <th>country_txt</th>\n",
       "      <th>region</th>\n",
       "      <th>region_txt</th>\n",
       "      <th>provstate</th>\n",
       "      <th>city</th>\n",
       "      <th>location</th>\n",
       "      <th>success</th>\n",
       "      <th>attacktype1_txt</th>\n",
       "      <th>targtype1_txt</th>\n",
       "      <th>targsubtype1_txt</th>\n",
       "    </tr>\n",
       "  </thead>\n",
       "  <tbody>\n",
       "    <tr>\n",
       "      <th>0</th>\n",
       "      <td>197000000001</td>\n",
       "      <td>1970</td>\n",
       "      <td>7</td>\n",
       "      <td>2</td>\n",
       "      <td>58</td>\n",
       "      <td>36</td>\n",
       "      <td>2</td>\n",
       "      <td>Central America &amp; Caribbean</td>\n",
       "      <td>0</td>\n",
       "      <td>Santo Domingo</td>\n",
       "      <td>0</td>\n",
       "      <td>1</td>\n",
       "      <td>Assassination</td>\n",
       "      <td>Private Citizens &amp; Property</td>\n",
       "      <td>Named Civilian</td>\n",
       "    </tr>\n",
       "    <tr>\n",
       "      <th>1</th>\n",
       "      <td>197000000002</td>\n",
       "      <td>1970</td>\n",
       "      <td>0</td>\n",
       "      <td>0</td>\n",
       "      <td>130</td>\n",
       "      <td>89</td>\n",
       "      <td>1</td>\n",
       "      <td>North America</td>\n",
       "      <td>Federal</td>\n",
       "      <td>Mexico city</td>\n",
       "      <td>Dhanora</td>\n",
       "      <td>1</td>\n",
       "      <td>1</td>\n",
       "      <td>1</td>\n",
       "      <td>Diplomatic Personnel (outside of embassy, cons...</td>\n",
       "    </tr>\n",
       "    <tr>\n",
       "      <th>2</th>\n",
       "      <td>200910130011</td>\n",
       "      <td>2009</td>\n",
       "      <td>10</td>\n",
       "      <td>13</td>\n",
       "      <td>4</td>\n",
       "      <td>0</td>\n",
       "      <td>6</td>\n",
       "      <td>South Asia</td>\n",
       "      <td>Zabul</td>\n",
       "      <td>Qalat</td>\n",
       "      <td>The attack took place in Qalat, Xabol, Afghani...</td>\n",
       "      <td>1</td>\n",
       "      <td>Armed Assault</td>\n",
       "      <td>Government (General)</td>\n",
       "      <td>Intelligence</td>\n",
       "    </tr>\n",
       "    <tr>\n",
       "      <th>3</th>\n",
       "      <td>200910130013</td>\n",
       "      <td>2009</td>\n",
       "      <td>10</td>\n",
       "      <td>13</td>\n",
       "      <td>92</td>\n",
       "      <td>59</td>\n",
       "      <td>6</td>\n",
       "      <td>South Asia</td>\n",
       "      <td>Bihar</td>\n",
       "      <td>Hussainganj</td>\n",
       "      <td>The attack took place in the Hussainganj area ...</td>\n",
       "      <td>1</td>\n",
       "      <td>Facility/Infrastructure Attack</td>\n",
       "      <td>Telecommunication</td>\n",
       "      <td>Telephone/Telegraph</td>\n",
       "    </tr>\n",
       "    <tr>\n",
       "      <th>4</th>\n",
       "      <td>200910130014</td>\n",
       "      <td>2009</td>\n",
       "      <td>10</td>\n",
       "      <td>13</td>\n",
       "      <td>92</td>\n",
       "      <td>59</td>\n",
       "      <td>6</td>\n",
       "      <td>South Asia</td>\n",
       "      <td>Bihar</td>\n",
       "      <td>Bandhu Bagicha</td>\n",
       "      <td>The attack took place in the Bandhu Bagicha ar...</td>\n",
       "      <td>1</td>\n",
       "      <td>Facility/Infrastructure Attack</td>\n",
       "      <td>Business</td>\n",
       "      <td>Embassy/Consulate</td>\n",
       "    </tr>\n",
       "  </tbody>\n",
       "</table>\n",
       "</div>"
      ],
      "text/plain": [
       "        eventid  iyear  imonth  iday  country  country_txt  region  \\\n",
       "0  197000000001   1970       7     2       58           36       2   \n",
       "1  197000000002   1970       0     0      130           89       1   \n",
       "2  200910130011   2009      10    13        4            0       6   \n",
       "3  200910130013   2009      10    13       92           59       6   \n",
       "4  200910130014   2009      10    13       92           59       6   \n",
       "\n",
       "                    region_txt provstate            city  \\\n",
       "0  Central America & Caribbean         0   Santo Domingo   \n",
       "1                North America   Federal     Mexico city   \n",
       "2                   South Asia     Zabul           Qalat   \n",
       "3                   South Asia     Bihar     Hussainganj   \n",
       "4                   South Asia     Bihar  Bandhu Bagicha   \n",
       "\n",
       "                                            location  success  \\\n",
       "0                                                  0        1   \n",
       "1                                            Dhanora        1   \n",
       "2  The attack took place in Qalat, Xabol, Afghani...        1   \n",
       "3  The attack took place in the Hussainganj area ...        1   \n",
       "4  The attack took place in the Bandhu Bagicha ar...        1   \n",
       "\n",
       "                  attacktype1_txt                targtype1_txt  \\\n",
       "0                   Assassination  Private Citizens & Property   \n",
       "1                               1                            1   \n",
       "2                   Armed Assault         Government (General)   \n",
       "3  Facility/Infrastructure Attack            Telecommunication   \n",
       "4  Facility/Infrastructure Attack                     Business   \n",
       "\n",
       "                                    targsubtype1_txt  \n",
       "0                                     Named Civilian  \n",
       "1  Diplomatic Personnel (outside of embassy, cons...  \n",
       "2                                       Intelligence  \n",
       "3                                Telephone/Telegraph  \n",
       "4                                  Embassy/Consulate  "
      ]
     },
     "execution_count": 56,
     "metadata": {},
     "output_type": "execute_result"
    }
   ],
   "source": [
    "dataset.head()"
   ]
  },
  {
   "cell_type": "code",
   "execution_count": 57,
   "metadata": {},
   "outputs": [
    {
     "data": {
      "text/plain": [
       "Index(['eventid', 'iyear', 'imonth', 'iday', 'country', 'country_txt',\n",
       "       'region', 'region_txt', 'provstate', 'city', 'location', 'success',\n",
       "       'attacktype1_txt', 'targtype1_txt', 'targsubtype1_txt'],\n",
       "      dtype='object')"
      ]
     },
     "execution_count": 57,
     "metadata": {},
     "output_type": "execute_result"
    }
   ],
   "source": [
    "dataset.columns"
   ]
  },
  {
   "cell_type": "code",
   "execution_count": 58,
   "metadata": {},
   "outputs": [],
   "source": [
    "dataset.drop(['region_txt', 'provstate', 'city', 'location','attacktype1_txt', 'targtype1_txt', 'targsubtype1_txt'],axis=1,inplace=True)"
   ]
  },
  {
   "cell_type": "code",
   "execution_count": 59,
   "metadata": {},
   "outputs": [
    {
     "data": {
      "text/html": [
       "<div>\n",
       "<style scoped>\n",
       "    .dataframe tbody tr th:only-of-type {\n",
       "        vertical-align: middle;\n",
       "    }\n",
       "\n",
       "    .dataframe tbody tr th {\n",
       "        vertical-align: top;\n",
       "    }\n",
       "\n",
       "    .dataframe thead th {\n",
       "        text-align: right;\n",
       "    }\n",
       "</style>\n",
       "<table border=\"1\" class=\"dataframe\">\n",
       "  <thead>\n",
       "    <tr style=\"text-align: right;\">\n",
       "      <th></th>\n",
       "      <th>eventid</th>\n",
       "      <th>iyear</th>\n",
       "      <th>imonth</th>\n",
       "      <th>iday</th>\n",
       "      <th>country</th>\n",
       "      <th>country_txt</th>\n",
       "      <th>region</th>\n",
       "      <th>success</th>\n",
       "    </tr>\n",
       "  </thead>\n",
       "  <tbody>\n",
       "    <tr>\n",
       "      <th>0</th>\n",
       "      <td>197000000001</td>\n",
       "      <td>1970</td>\n",
       "      <td>7</td>\n",
       "      <td>2</td>\n",
       "      <td>58</td>\n",
       "      <td>36</td>\n",
       "      <td>2</td>\n",
       "      <td>1</td>\n",
       "    </tr>\n",
       "    <tr>\n",
       "      <th>1</th>\n",
       "      <td>197000000002</td>\n",
       "      <td>1970</td>\n",
       "      <td>0</td>\n",
       "      <td>0</td>\n",
       "      <td>130</td>\n",
       "      <td>89</td>\n",
       "      <td>1</td>\n",
       "      <td>1</td>\n",
       "    </tr>\n",
       "    <tr>\n",
       "      <th>2</th>\n",
       "      <td>200910130011</td>\n",
       "      <td>2009</td>\n",
       "      <td>10</td>\n",
       "      <td>13</td>\n",
       "      <td>4</td>\n",
       "      <td>0</td>\n",
       "      <td>6</td>\n",
       "      <td>1</td>\n",
       "    </tr>\n",
       "    <tr>\n",
       "      <th>3</th>\n",
       "      <td>200910130013</td>\n",
       "      <td>2009</td>\n",
       "      <td>10</td>\n",
       "      <td>13</td>\n",
       "      <td>92</td>\n",
       "      <td>59</td>\n",
       "      <td>6</td>\n",
       "      <td>1</td>\n",
       "    </tr>\n",
       "    <tr>\n",
       "      <th>4</th>\n",
       "      <td>200910130014</td>\n",
       "      <td>2009</td>\n",
       "      <td>10</td>\n",
       "      <td>13</td>\n",
       "      <td>92</td>\n",
       "      <td>59</td>\n",
       "      <td>6</td>\n",
       "      <td>1</td>\n",
       "    </tr>\n",
       "  </tbody>\n",
       "</table>\n",
       "</div>"
      ],
      "text/plain": [
       "        eventid  iyear  imonth  iday  country  country_txt  region  success\n",
       "0  197000000001   1970       7     2       58           36       2        1\n",
       "1  197000000002   1970       0     0      130           89       1        1\n",
       "2  200910130011   2009      10    13        4            0       6        1\n",
       "3  200910130013   2009      10    13       92           59       6        1\n",
       "4  200910130014   2009      10    13       92           59       6        1"
      ]
     },
     "execution_count": 59,
     "metadata": {},
     "output_type": "execute_result"
    }
   ],
   "source": [
    "dataset.head()"
   ]
  },
  {
   "cell_type": "code",
   "execution_count": 63,
   "metadata": {},
   "outputs": [
    {
     "data": {
      "text/plain": [
       "<AxesSubplot:xlabel='iday', ylabel='count'>"
      ]
     },
     "execution_count": 63,
     "metadata": {},
     "output_type": "execute_result"
    },
    {
     "data": {
      "image/png": "[encoded data removed]",
      "text/plain": [
       "<Figure size 1440x576 with 1 Axes>"
      ]
     },
     "metadata": {},
     "output_type": "display_data"
    }
   ],
   "source": [
    "plt.figure(figsize=(20,8))\n",
    "sns.countplot(x='iday',data=df,palette='Paired')"
   ]
  },
  {
   "cell_type": "markdown",
   "metadata": {},
   "source": [
    "# Model Building"
   ]
  },
  {
   "cell_type": "code",
   "execution_count": 85,
   "metadata": {},
   "outputs": [],
   "source": [
    "X = dataset.drop('success',axis=1)\n",
    "y = dataset['success']"
   ]
  },
  {
   "cell_type": "code",
   "execution_count": 86,
   "metadata": {},
   "outputs": [
    {
     "data": {
      "text/html": [
       "<div>\n",
       "<style scoped>\n",
       "    .dataframe tbody tr th:only-of-type {\n",
       "        vertical-align: middle;\n",
       "    }\n",
       "\n",
       "    .dataframe tbody tr th {\n",
       "        vertical-align: top;\n",
       "    }\n",
       "\n",
       "    .dataframe thead th {\n",
       "        text-align: right;\n",
       "    }\n",
       "</style>\n",
       "<table border=\"1\" class=\"dataframe\">\n",
       "  <thead>\n",
       "    <tr style=\"text-align: right;\">\n",
       "      <th></th>\n",
       "      <th>eventid</th>\n",
       "      <th>iyear</th>\n",
       "      <th>imonth</th>\n",
       "      <th>iday</th>\n",
       "      <th>country</th>\n",
       "      <th>country_txt</th>\n",
       "      <th>region</th>\n",
       "    </tr>\n",
       "  </thead>\n",
       "  <tbody>\n",
       "    <tr>\n",
       "      <th>0</th>\n",
       "      <td>197000000001</td>\n",
       "      <td>1970</td>\n",
       "      <td>7</td>\n",
       "      <td>2</td>\n",
       "      <td>58</td>\n",
       "      <td>36</td>\n",
       "      <td>2</td>\n",
       "    </tr>\n",
       "    <tr>\n",
       "      <th>1</th>\n",
       "      <td>197000000002</td>\n",
       "      <td>1970</td>\n",
       "      <td>0</td>\n",
       "      <td>0</td>\n",
       "      <td>130</td>\n",
       "      <td>89</td>\n",
       "      <td>1</td>\n",
       "    </tr>\n",
       "    <tr>\n",
       "      <th>2</th>\n",
       "      <td>200910130011</td>\n",
       "      <td>2009</td>\n",
       "      <td>10</td>\n",
       "      <td>13</td>\n",
       "      <td>4</td>\n",
       "      <td>0</td>\n",
       "      <td>6</td>\n",
       "    </tr>\n",
       "    <tr>\n",
       "      <th>3</th>\n",
       "      <td>200910130013</td>\n",
       "      <td>2009</td>\n",
       "      <td>10</td>\n",
       "      <td>13</td>\n",
       "      <td>92</td>\n",
       "      <td>59</td>\n",
       "      <td>6</td>\n",
       "    </tr>\n",
       "    <tr>\n",
       "      <th>4</th>\n",
       "      <td>200910130014</td>\n",
       "      <td>2009</td>\n",
       "      <td>10</td>\n",
       "      <td>13</td>\n",
       "      <td>92</td>\n",
       "      <td>59</td>\n",
       "      <td>6</td>\n",
       "    </tr>\n",
       "  </tbody>\n",
       "</table>\n",
       "</div>"
      ],
      "text/plain": [
       "        eventid  iyear  imonth  iday  country  country_txt  region\n",
       "0  197000000001   1970       7     2       58           36       2\n",
       "1  197000000002   1970       0     0      130           89       1\n",
       "2  200910130011   2009      10    13        4            0       6\n",
       "3  200910130013   2009      10    13       92           59       6\n",
       "4  200910130014   2009      10    13       92           59       6"
      ]
     },
     "execution_count": 86,
     "metadata": {},
     "output_type": "execute_result"
    }
   ],
   "source": [
    "X.head()"
   ]
  },
  {
   "cell_type": "code",
   "execution_count": 87,
   "metadata": {},
   "outputs": [
    {
     "data": {
      "text/plain": [
       "0    1\n",
       "1    1\n",
       "2    1\n",
       "3    1\n",
       "4    1\n",
       "Name: success, dtype: int64"
      ]
     },
     "execution_count": 87,
     "metadata": {},
     "output_type": "execute_result"
    }
   ],
   "source": [
    "y.head()"
   ]
  },
  {
   "cell_type": "code",
   "execution_count": 88,
   "metadata": {},
   "outputs": [],
   "source": [
    "from sklearn.model_selection import train_test_split"
   ]
  },
  {
   "cell_type": "code",
   "execution_count": 89,
   "metadata": {},
   "outputs": [],
   "source": [
    "X_train,X_test,y_train,y_test = train_test_split(X,y,test_size=0.2,random_state=20)"
   ]
  },
  {
   "cell_type": "code",
   "execution_count": 90,
   "metadata": {},
   "outputs": [
    {
     "data": {
      "text/plain": [
       "(75160, 7)"
      ]
     },
     "execution_count": 90,
     "metadata": {},
     "output_type": "execute_result"
    }
   ],
   "source": [
    "X_train.shape"
   ]
  },
  {
   "cell_type": "code",
   "execution_count": 91,
   "metadata": {},
   "outputs": [
    {
     "data": {
      "text/plain": [
       "(18791, 7)"
      ]
     },
     "execution_count": 91,
     "metadata": {},
     "output_type": "execute_result"
    }
   ],
   "source": [
    "X_test.shape"
   ]
  },
  {
   "cell_type": "code",
   "execution_count": 92,
   "metadata": {},
   "outputs": [],
   "source": [
    "from sklearn.linear_model import LogisticRegression"
   ]
  },
  {
   "cell_type": "code",
   "execution_count": 93,
   "metadata": {},
   "outputs": [],
   "source": [
    "model=LogisticRegression()"
   ]
  },
  {
   "cell_type": "code",
   "execution_count": 94,
   "metadata": {
    "scrolled": true
   },
   "outputs": [
    {
     "data": {
      "text/plain": [
       "LogisticRegression()"
      ]
     },
     "execution_count": 94,
     "metadata": {},
     "output_type": "execute_result"
    }
   ],
   "source": [
    "model.fit(X_train,y_train)"
   ]
  },
  {
   "cell_type": "code",
   "execution_count": 95,
   "metadata": {},
   "outputs": [],
   "source": [
    "y_pred=model.predict(X_test)"
   ]
  },
  {
   "cell_type": "code",
   "execution_count": 96,
   "metadata": {},
   "outputs": [
    {
     "data": {
      "text/plain": [
       "array([1, 1, 1, ..., 1, 1, 1], dtype=int64)"
      ]
     },
     "execution_count": 96,
     "metadata": {},
     "output_type": "execute_result"
    }
   ],
   "source": [
    "y_pred"
   ]
  },
  {
   "cell_type": "code",
   "execution_count": 97,
   "metadata": {},
   "outputs": [],
   "source": [
    "from sklearn.metrics import accuracy_score"
   ]
  },
  {
   "cell_type": "code",
   "execution_count": 98,
   "metadata": {},
   "outputs": [
    {
     "data": {
      "text/plain": [
       "86.23277100739716"
      ]
     },
     "execution_count": 98,
     "metadata": {},
     "output_type": "execute_result"
    }
   ],
   "source": [
    "accuracy_score(y_test,y_pred)*100"
   ]
  },
  {
   "cell_type": "code",
   "execution_count": 99,
   "metadata": {},
   "outputs": [],
   "source": [
    "from sklearn.model_selection import KFold\n",
    "from sklearn.model_selection import cross_val_score\n",
    "k_fold = KFold(n_splits=5, shuffle=True, random_state=0)"
   ]
  },
  {
   "cell_type": "code",
   "execution_count": 100,
   "metadata": {},
   "outputs": [],
   "source": [
    "cross_val_logistic=cross_val_score(model,X,y,cv=k_fold,scoring='accuracy')"
   ]
  },
  {
   "cell_type": "code",
   "execution_count": 101,
   "metadata": {},
   "outputs": [
    {
     "data": {
      "text/plain": [
       "array([0.86376457, 0.86120277, 0.86577967, 0.86072379, 0.85981905])"
      ]
     },
     "execution_count": 101,
     "metadata": {},
     "output_type": "execute_result"
    }
   ],
   "source": [
    "cross_val_logistic"
   ]
  },
  {
   "cell_type": "code",
   "execution_count": 102,
   "metadata": {},
   "outputs": [
    {
     "data": {
      "text/plain": [
       "86.22579695096526"
      ]
     },
     "execution_count": 102,
     "metadata": {},
     "output_type": "execute_result"
    }
   ],
   "source": [
    "cross_val_logistic.mean()*100"
   ]
  },
  {
   "cell_type": "code",
   "execution_count": null,
   "metadata": {},
   "outputs": [],
   "source": []
  },
  {
   "cell_type": "code",
   "execution_count": null,
   "metadata": {},
   "outputs": [],
   "source": []
  },
  {
   "cell_type": "code",
   "execution_count": null,
   "metadata": {},
   "outputs": [],
   "source": []
  }
 ],
 "metadata": {
  "kernelspec": {
   "display_name": "Python 3",
   "language": "python",
   "name": "python3"
  },
  "language_info": {
   "codemirror_mode": {
    "name": "ipython",
    "version": 3
   },
   "file_extension": ".py",
   "mimetype": "text/x-python",
   "name": "python",
   "nbconvert_exporter": "python",
   "pygments_lexer": "ipython3",
   "version": "3.8.5"
  }
 },
 "nbformat": 4,
 "nbformat_minor": 4
}
